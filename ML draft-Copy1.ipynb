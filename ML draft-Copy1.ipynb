{
 "cells": [
  {
   "cell_type": "markdown",
   "id": "5e427f0e",
   "metadata": {},
   "source": [
    "# Stroke Prediction Notebook\n"
   ]
  },
  {
   "cell_type": "markdown",
   "id": "f4aac769",
   "metadata": {},
   "source": [
    "## Table of content\n",
    "\n",
    "1. [Introduction](#1.-Introduction)\n",
    "2. [Data Overview](#2.-Data Overview)\n",
    "3. [Exploratory Data Analysis](#3.-Exploratory Data Analysis)\n",
    "4. [Supervised Learning](#4.-Supervised Learning)\n",
    "     4.1 [Performance metrics used](#4.1-Performance metrics used)\n",
    "     4.2 [Results and analysis](#4.2-Results and analysis)\n",
    "     4.3 [Strengths and weaknesses of each model](#4.3-asf)\n",
    "5. [Unsupervised Learning](#5.-Introduction)\n",
    "     5.1 [Summary of findings](#5.1-Introduction)\n",
    "     5.2 [Recommendations for future work](#5.2-Introduction)\n",
    "     5.3 [Limitations and challenges](#5.3-Introduction)\n",
    "6. [References](#6.-Introduction)"
   ]
  },
  {
   "cell_type": "markdown",
   "id": "8866e881",
   "metadata": {},
   "source": [
    "## 1. Introduction \n",
    "\n",
    "Stroke is a life-threatening medical condition that occurs when blood flow to the brain is interrupted. It is the second leading cause of death and a major cause oof long-term disability worldwide. Early detection and prevention of stroke are crucial to reducing its impact on the individuals and society.\n",
    "\n",
    "The Stroke Prediction Dataset on Kaggle provides a collection of health-related data that can be used to predict the likelihood of an individual experiencing a stroke. The dataset includes demographic, lifestyle, and clinical variables such as age, gender, smoking status, hypertension, heart disease, and glucose levels, among others. The dataset contains data from over 43,000 individuals across 12 countries.\n",
    "\n",
    "\n",
    "We can access the dataset on Kaggle:\n",
    "https://www.kaggle.com/datasets/fedesoriano/stroke-prediction-dataset\n",
    "\n",
    "\n",
    "\n",
    "\n",
    "<h4>Attribute Information </h4>\n",
    "\n",
    "The Stroke Prediction Dataset contains 12 features (or columns) and 5110 instances (or rows). Here's a brief description of each feature:\n",
    "\n",
    "1.\tid:               unique identifier\n",
    "2.\tgender:           \"Male\", \"Female\", or \"Other\"\n",
    "3.\tage:               age of the individual in years\n",
    "4.\thypertension:      1 if yes, 0 otherwise\n",
    "5.\theart_disease:     1 if yes, 0 otherwise\n",
    "6.\tever_married:      \"Yes\" or \"No\"\n",
    "7.\twork_type:         \"Private\", \"Self-employed\", \"Govt_job\", \"Children\", or \"Never_worked\"\n",
    "8.\tResidence_type:    \"Urban\" or \"Rural\"\n",
    "9.\tavg_glucose_level: average glucose level in blood\n",
    "10.\tbmi:               body mass index\n",
    "11.\tsmoking_status:    \"formerly smoked\", \"never smoked\", \"smokes\", or \"Unknown\"\n",
    "12.\tstroke:            1 if the individual had a stroke, 0 otherwise\n",
    "\n",
    "\n",
    "This dataset can be used to explore the relationships between these variables and the likelihood of experiencing a stroke, as well as to develop predictive models to identify high-risk individuals who may benefit from early interventions.\n"
   ]
  },
  {
   "cell_type": "markdown",
   "id": "8cf14dbb",
   "metadata": {},
   "source": [
    "## 2. Data Overview"
   ]
  },
  {
   "cell_type": "markdown",
   "id": "13aa0345",
   "metadata": {},
   "source": [
    "We start by including the basic libraries for the data exploration"
   ]
  },
  {
   "cell_type": "code",
   "execution_count": 1,
   "id": "83b7cc4a",
   "metadata": {},
   "outputs": [],
   "source": [
    "import numpy as np\n",
    "import pandas as pd\n",
    "import matplotlib.pyplot as plt\n",
    "import seaborn as sns \n",
    "from scipy import stats\n",
    "from scipy.stats import norm\n",
    "import warnings\n",
    "warnings.filterwarnings('ignore')"
   ]
  },
  {
   "cell_type": "code",
   "execution_count": 2,
   "id": "8d95d4a6",
   "metadata": {},
   "outputs": [],
   "source": [
    "df= pd.read_csv(\"/Users/ash/Downloads/healthcare-dataset-stroke-data 2.csv\")"
   ]
  },
  {
   "cell_type": "markdown",
   "id": "ee22c8b4",
   "metadata": {},
   "source": [
    "After storing the dataset into 'df' I have removed the column 'id' as it serves no purpose in our analysis"
   ]
  },
  {
   "cell_type": "code",
   "execution_count": 3,
   "id": "40dca820",
   "metadata": {},
   "outputs": [],
   "source": [
    "df.drop(columns=['id'],inplace = True,axis = 1)"
   ]
  },
  {
   "cell_type": "markdown",
   "id": "cd886153",
   "metadata": {},
   "source": [
    "Here we can see the initial and the last 5 rows of our dataset. We do this just by stating the variable name of the dataset."
   ]
  },
  {
   "cell_type": "code",
   "execution_count": 4,
   "id": "a62de0c9",
   "metadata": {},
   "outputs": [
    {
     "data": {
      "text/html": [
       "<div>\n",
       "<style scoped>\n",
       "    .dataframe tbody tr th:only-of-type {\n",
       "        vertical-align: middle;\n",
       "    }\n",
       "\n",
       "    .dataframe tbody tr th {\n",
       "        vertical-align: top;\n",
       "    }\n",
       "\n",
       "    .dataframe thead th {\n",
       "        text-align: right;\n",
       "    }\n",
       "</style>\n",
       "<table border=\"1\" class=\"dataframe\">\n",
       "  <thead>\n",
       "    <tr style=\"text-align: right;\">\n",
       "      <th></th>\n",
       "      <th>gender</th>\n",
       "      <th>age</th>\n",
       "      <th>hypertension</th>\n",
       "      <th>heart_disease</th>\n",
       "      <th>ever_married</th>\n",
       "      <th>work_type</th>\n",
       "      <th>Residence_type</th>\n",
       "      <th>avg_glucose_level</th>\n",
       "      <th>bmi</th>\n",
       "      <th>smoking_status</th>\n",
       "      <th>stroke</th>\n",
       "    </tr>\n",
       "  </thead>\n",
       "  <tbody>\n",
       "    <tr>\n",
       "      <th>0</th>\n",
       "      <td>Male</td>\n",
       "      <td>67.0</td>\n",
       "      <td>0</td>\n",
       "      <td>1</td>\n",
       "      <td>Yes</td>\n",
       "      <td>Private</td>\n",
       "      <td>Urban</td>\n",
       "      <td>228.69</td>\n",
       "      <td>36.6</td>\n",
       "      <td>formerly smoked</td>\n",
       "      <td>1</td>\n",
       "    </tr>\n",
       "    <tr>\n",
       "      <th>1</th>\n",
       "      <td>Female</td>\n",
       "      <td>61.0</td>\n",
       "      <td>0</td>\n",
       "      <td>0</td>\n",
       "      <td>Yes</td>\n",
       "      <td>Self-employed</td>\n",
       "      <td>Rural</td>\n",
       "      <td>202.21</td>\n",
       "      <td>NaN</td>\n",
       "      <td>never smoked</td>\n",
       "      <td>1</td>\n",
       "    </tr>\n",
       "    <tr>\n",
       "      <th>2</th>\n",
       "      <td>Male</td>\n",
       "      <td>80.0</td>\n",
       "      <td>0</td>\n",
       "      <td>1</td>\n",
       "      <td>Yes</td>\n",
       "      <td>Private</td>\n",
       "      <td>Rural</td>\n",
       "      <td>105.92</td>\n",
       "      <td>32.5</td>\n",
       "      <td>never smoked</td>\n",
       "      <td>1</td>\n",
       "    </tr>\n",
       "    <tr>\n",
       "      <th>3</th>\n",
       "      <td>Female</td>\n",
       "      <td>49.0</td>\n",
       "      <td>0</td>\n",
       "      <td>0</td>\n",
       "      <td>Yes</td>\n",
       "      <td>Private</td>\n",
       "      <td>Urban</td>\n",
       "      <td>171.23</td>\n",
       "      <td>34.4</td>\n",
       "      <td>smokes</td>\n",
       "      <td>1</td>\n",
       "    </tr>\n",
       "    <tr>\n",
       "      <th>4</th>\n",
       "      <td>Female</td>\n",
       "      <td>79.0</td>\n",
       "      <td>1</td>\n",
       "      <td>0</td>\n",
       "      <td>Yes</td>\n",
       "      <td>Self-employed</td>\n",
       "      <td>Rural</td>\n",
       "      <td>174.12</td>\n",
       "      <td>24.0</td>\n",
       "      <td>never smoked</td>\n",
       "      <td>1</td>\n",
       "    </tr>\n",
       "    <tr>\n",
       "      <th>...</th>\n",
       "      <td>...</td>\n",
       "      <td>...</td>\n",
       "      <td>...</td>\n",
       "      <td>...</td>\n",
       "      <td>...</td>\n",
       "      <td>...</td>\n",
       "      <td>...</td>\n",
       "      <td>...</td>\n",
       "      <td>...</td>\n",
       "      <td>...</td>\n",
       "      <td>...</td>\n",
       "    </tr>\n",
       "    <tr>\n",
       "      <th>5105</th>\n",
       "      <td>Female</td>\n",
       "      <td>80.0</td>\n",
       "      <td>1</td>\n",
       "      <td>0</td>\n",
       "      <td>Yes</td>\n",
       "      <td>Private</td>\n",
       "      <td>Urban</td>\n",
       "      <td>83.75</td>\n",
       "      <td>NaN</td>\n",
       "      <td>never smoked</td>\n",
       "      <td>0</td>\n",
       "    </tr>\n",
       "    <tr>\n",
       "      <th>5106</th>\n",
       "      <td>Female</td>\n",
       "      <td>81.0</td>\n",
       "      <td>0</td>\n",
       "      <td>0</td>\n",
       "      <td>Yes</td>\n",
       "      <td>Self-employed</td>\n",
       "      <td>Urban</td>\n",
       "      <td>125.20</td>\n",
       "      <td>40.0</td>\n",
       "      <td>never smoked</td>\n",
       "      <td>0</td>\n",
       "    </tr>\n",
       "    <tr>\n",
       "      <th>5107</th>\n",
       "      <td>Female</td>\n",
       "      <td>35.0</td>\n",
       "      <td>0</td>\n",
       "      <td>0</td>\n",
       "      <td>Yes</td>\n",
       "      <td>Self-employed</td>\n",
       "      <td>Rural</td>\n",
       "      <td>82.99</td>\n",
       "      <td>30.6</td>\n",
       "      <td>never smoked</td>\n",
       "      <td>0</td>\n",
       "    </tr>\n",
       "    <tr>\n",
       "      <th>5108</th>\n",
       "      <td>Male</td>\n",
       "      <td>51.0</td>\n",
       "      <td>0</td>\n",
       "      <td>0</td>\n",
       "      <td>Yes</td>\n",
       "      <td>Private</td>\n",
       "      <td>Rural</td>\n",
       "      <td>166.29</td>\n",
       "      <td>25.6</td>\n",
       "      <td>formerly smoked</td>\n",
       "      <td>0</td>\n",
       "    </tr>\n",
       "    <tr>\n",
       "      <th>5109</th>\n",
       "      <td>Female</td>\n",
       "      <td>44.0</td>\n",
       "      <td>0</td>\n",
       "      <td>0</td>\n",
       "      <td>Yes</td>\n",
       "      <td>Govt_job</td>\n",
       "      <td>Urban</td>\n",
       "      <td>85.28</td>\n",
       "      <td>26.2</td>\n",
       "      <td>Unknown</td>\n",
       "      <td>0</td>\n",
       "    </tr>\n",
       "  </tbody>\n",
       "</table>\n",
       "<p>5110 rows × 11 columns</p>\n",
       "</div>"
      ],
      "text/plain": [
       "      gender   age  hypertension  heart_disease ever_married      work_type  \\\n",
       "0       Male  67.0             0              1          Yes        Private   \n",
       "1     Female  61.0             0              0          Yes  Self-employed   \n",
       "2       Male  80.0             0              1          Yes        Private   \n",
       "3     Female  49.0             0              0          Yes        Private   \n",
       "4     Female  79.0             1              0          Yes  Self-employed   \n",
       "...      ...   ...           ...            ...          ...            ...   \n",
       "5105  Female  80.0             1              0          Yes        Private   \n",
       "5106  Female  81.0             0              0          Yes  Self-employed   \n",
       "5107  Female  35.0             0              0          Yes  Self-employed   \n",
       "5108    Male  51.0             0              0          Yes        Private   \n",
       "5109  Female  44.0             0              0          Yes       Govt_job   \n",
       "\n",
       "     Residence_type  avg_glucose_level   bmi   smoking_status  stroke  \n",
       "0             Urban             228.69  36.6  formerly smoked       1  \n",
       "1             Rural             202.21   NaN     never smoked       1  \n",
       "2             Rural             105.92  32.5     never smoked       1  \n",
       "3             Urban             171.23  34.4           smokes       1  \n",
       "4             Rural             174.12  24.0     never smoked       1  \n",
       "...             ...                ...   ...              ...     ...  \n",
       "5105          Urban              83.75   NaN     never smoked       0  \n",
       "5106          Urban             125.20  40.0     never smoked       0  \n",
       "5107          Rural              82.99  30.6     never smoked       0  \n",
       "5108          Rural             166.29  25.6  formerly smoked       0  \n",
       "5109          Urban              85.28  26.2          Unknown       0  \n",
       "\n",
       "[5110 rows x 11 columns]"
      ]
     },
     "execution_count": 4,
     "metadata": {},
     "output_type": "execute_result"
    }
   ],
   "source": [
    "df"
   ]
  },
  {
   "cell_type": "markdown",
   "id": "654706ed",
   "metadata": {},
   "source": [
    "<h3> -> Questions to ask</h3>\n",
    "<h5> 1) Male/Female who has more strokes.</h5>\n",
    "<h5> 2) People of which age group are more likely to get a stroke.</h5>\n",
    "<h5> 3) Is hypertension a cause?</h5>\n",
    "<h5> 4) A person with heart disease is more likely to get a stroke (need confirmation).</h5>\n",
    "<h5> 5) Marriage may be a cause of strokes.</h5>\n",
    "<h5> 6) People working in private jobs may be the majority of people with strokes(mostly cause of stress).</h5>\n",
    "<h5> 7) Evaluating the neumerical variables with the target variable</h5>\n",
    "<h5> 8) People living in urban areas have more chances of getting stroke?</h5>\n",
    "<h5> 9) BMI must be closely observed with age and gender.</h5>\n",
    "<h5>10) People who smoke are more likely to get a stroke (need confirmation).</h5>"
   ]
  },
  {
   "cell_type": "code",
   "execution_count": 5,
   "id": "f155b5bb",
   "metadata": {},
   "outputs": [
    {
     "data": {
      "text/html": [
       "<div>\n",
       "<style scoped>\n",
       "    .dataframe tbody tr th:only-of-type {\n",
       "        vertical-align: middle;\n",
       "    }\n",
       "\n",
       "    .dataframe tbody tr th {\n",
       "        vertical-align: top;\n",
       "    }\n",
       "\n",
       "    .dataframe thead th {\n",
       "        text-align: right;\n",
       "    }\n",
       "</style>\n",
       "<table border=\"1\" class=\"dataframe\">\n",
       "  <thead>\n",
       "    <tr style=\"text-align: right;\">\n",
       "      <th></th>\n",
       "      <th>gender</th>\n",
       "      <th>age</th>\n",
       "      <th>hypertension</th>\n",
       "      <th>heart_disease</th>\n",
       "      <th>ever_married</th>\n",
       "      <th>work_type</th>\n",
       "      <th>Residence_type</th>\n",
       "      <th>avg_glucose_level</th>\n",
       "      <th>bmi</th>\n",
       "      <th>smoking_status</th>\n",
       "      <th>stroke</th>\n",
       "    </tr>\n",
       "  </thead>\n",
       "  <tbody>\n",
       "    <tr>\n",
       "      <th>0</th>\n",
       "      <td>Male</td>\n",
       "      <td>67.0</td>\n",
       "      <td>0</td>\n",
       "      <td>1</td>\n",
       "      <td>Yes</td>\n",
       "      <td>Private</td>\n",
       "      <td>Urban</td>\n",
       "      <td>228.69</td>\n",
       "      <td>36.6</td>\n",
       "      <td>formerly smoked</td>\n",
       "      <td>1</td>\n",
       "    </tr>\n",
       "    <tr>\n",
       "      <th>1</th>\n",
       "      <td>Female</td>\n",
       "      <td>61.0</td>\n",
       "      <td>0</td>\n",
       "      <td>0</td>\n",
       "      <td>Yes</td>\n",
       "      <td>Self-employed</td>\n",
       "      <td>Rural</td>\n",
       "      <td>202.21</td>\n",
       "      <td>NaN</td>\n",
       "      <td>never smoked</td>\n",
       "      <td>1</td>\n",
       "    </tr>\n",
       "    <tr>\n",
       "      <th>2</th>\n",
       "      <td>Male</td>\n",
       "      <td>80.0</td>\n",
       "      <td>0</td>\n",
       "      <td>1</td>\n",
       "      <td>Yes</td>\n",
       "      <td>Private</td>\n",
       "      <td>Rural</td>\n",
       "      <td>105.92</td>\n",
       "      <td>32.5</td>\n",
       "      <td>never smoked</td>\n",
       "      <td>1</td>\n",
       "    </tr>\n",
       "    <tr>\n",
       "      <th>3</th>\n",
       "      <td>Female</td>\n",
       "      <td>49.0</td>\n",
       "      <td>0</td>\n",
       "      <td>0</td>\n",
       "      <td>Yes</td>\n",
       "      <td>Private</td>\n",
       "      <td>Urban</td>\n",
       "      <td>171.23</td>\n",
       "      <td>34.4</td>\n",
       "      <td>smokes</td>\n",
       "      <td>1</td>\n",
       "    </tr>\n",
       "    <tr>\n",
       "      <th>4</th>\n",
       "      <td>Female</td>\n",
       "      <td>79.0</td>\n",
       "      <td>1</td>\n",
       "      <td>0</td>\n",
       "      <td>Yes</td>\n",
       "      <td>Self-employed</td>\n",
       "      <td>Rural</td>\n",
       "      <td>174.12</td>\n",
       "      <td>24.0</td>\n",
       "      <td>never smoked</td>\n",
       "      <td>1</td>\n",
       "    </tr>\n",
       "  </tbody>\n",
       "</table>\n",
       "</div>"
      ],
      "text/plain": [
       "   gender   age  hypertension  heart_disease ever_married      work_type  \\\n",
       "0    Male  67.0             0              1          Yes        Private   \n",
       "1  Female  61.0             0              0          Yes  Self-employed   \n",
       "2    Male  80.0             0              1          Yes        Private   \n",
       "3  Female  49.0             0              0          Yes        Private   \n",
       "4  Female  79.0             1              0          Yes  Self-employed   \n",
       "\n",
       "  Residence_type  avg_glucose_level   bmi   smoking_status  stroke  \n",
       "0          Urban             228.69  36.6  formerly smoked       1  \n",
       "1          Rural             202.21   NaN     never smoked       1  \n",
       "2          Rural             105.92  32.5     never smoked       1  \n",
       "3          Urban             171.23  34.4           smokes       1  \n",
       "4          Rural             174.12  24.0     never smoked       1  "
      ]
     },
     "execution_count": 5,
     "metadata": {},
     "output_type": "execute_result"
    }
   ],
   "source": [
    "df.head()"
   ]
  },
  {
   "cell_type": "code",
   "execution_count": 6,
   "id": "b5093755",
   "metadata": {},
   "outputs": [
    {
     "name": "stdout",
     "output_type": "stream",
     "text": [
      "(5110, 11)\n"
     ]
    }
   ],
   "source": [
    "print(df.shape)"
   ]
  },
  {
   "cell_type": "code",
   "execution_count": 7,
   "id": "c304f7f7",
   "metadata": {
    "scrolled": true
   },
   "outputs": [
    {
     "name": "stdout",
     "output_type": "stream",
     "text": [
      "gender                 0\n",
      "age                    0\n",
      "hypertension           0\n",
      "heart_disease          0\n",
      "ever_married           0\n",
      "work_type              0\n",
      "Residence_type         0\n",
      "avg_glucose_level      0\n",
      "bmi                  201\n",
      "smoking_status         0\n",
      "stroke                 0\n",
      "dtype: int64\n"
     ]
    }
   ],
   "source": [
    "print(df.isnull().sum())"
   ]
  },
  {
   "cell_type": "code",
   "execution_count": 8,
   "id": "6c21fd62",
   "metadata": {},
   "outputs": [
    {
     "data": {
      "text/html": [
       "<div>\n",
       "<style scoped>\n",
       "    .dataframe tbody tr th:only-of-type {\n",
       "        vertical-align: middle;\n",
       "    }\n",
       "\n",
       "    .dataframe tbody tr th {\n",
       "        vertical-align: top;\n",
       "    }\n",
       "\n",
       "    .dataframe thead th {\n",
       "        text-align: right;\n",
       "    }\n",
       "</style>\n",
       "<table border=\"1\" class=\"dataframe\">\n",
       "  <thead>\n",
       "    <tr style=\"text-align: right;\">\n",
       "      <th></th>\n",
       "      <th>age</th>\n",
       "      <th>hypertension</th>\n",
       "      <th>heart_disease</th>\n",
       "      <th>avg_glucose_level</th>\n",
       "      <th>bmi</th>\n",
       "      <th>stroke</th>\n",
       "    </tr>\n",
       "  </thead>\n",
       "  <tbody>\n",
       "    <tr>\n",
       "      <th>count</th>\n",
       "      <td>5110.000000</td>\n",
       "      <td>5110.000000</td>\n",
       "      <td>5110.000000</td>\n",
       "      <td>5110.000000</td>\n",
       "      <td>4909.000000</td>\n",
       "      <td>5110.000000</td>\n",
       "    </tr>\n",
       "    <tr>\n",
       "      <th>mean</th>\n",
       "      <td>43.226614</td>\n",
       "      <td>0.097456</td>\n",
       "      <td>0.054012</td>\n",
       "      <td>106.147677</td>\n",
       "      <td>28.893237</td>\n",
       "      <td>0.048728</td>\n",
       "    </tr>\n",
       "    <tr>\n",
       "      <th>std</th>\n",
       "      <td>22.612647</td>\n",
       "      <td>0.296607</td>\n",
       "      <td>0.226063</td>\n",
       "      <td>45.283560</td>\n",
       "      <td>7.854067</td>\n",
       "      <td>0.215320</td>\n",
       "    </tr>\n",
       "    <tr>\n",
       "      <th>min</th>\n",
       "      <td>0.080000</td>\n",
       "      <td>0.000000</td>\n",
       "      <td>0.000000</td>\n",
       "      <td>55.120000</td>\n",
       "      <td>10.300000</td>\n",
       "      <td>0.000000</td>\n",
       "    </tr>\n",
       "    <tr>\n",
       "      <th>25%</th>\n",
       "      <td>25.000000</td>\n",
       "      <td>0.000000</td>\n",
       "      <td>0.000000</td>\n",
       "      <td>77.245000</td>\n",
       "      <td>23.500000</td>\n",
       "      <td>0.000000</td>\n",
       "    </tr>\n",
       "    <tr>\n",
       "      <th>50%</th>\n",
       "      <td>45.000000</td>\n",
       "      <td>0.000000</td>\n",
       "      <td>0.000000</td>\n",
       "      <td>91.885000</td>\n",
       "      <td>28.100000</td>\n",
       "      <td>0.000000</td>\n",
       "    </tr>\n",
       "    <tr>\n",
       "      <th>75%</th>\n",
       "      <td>61.000000</td>\n",
       "      <td>0.000000</td>\n",
       "      <td>0.000000</td>\n",
       "      <td>114.090000</td>\n",
       "      <td>33.100000</td>\n",
       "      <td>0.000000</td>\n",
       "    </tr>\n",
       "    <tr>\n",
       "      <th>max</th>\n",
       "      <td>82.000000</td>\n",
       "      <td>1.000000</td>\n",
       "      <td>1.000000</td>\n",
       "      <td>271.740000</td>\n",
       "      <td>97.600000</td>\n",
       "      <td>1.000000</td>\n",
       "    </tr>\n",
       "  </tbody>\n",
       "</table>\n",
       "</div>"
      ],
      "text/plain": [
       "               age  hypertension  heart_disease  avg_glucose_level  \\\n",
       "count  5110.000000   5110.000000    5110.000000        5110.000000   \n",
       "mean     43.226614      0.097456       0.054012         106.147677   \n",
       "std      22.612647      0.296607       0.226063          45.283560   \n",
       "min       0.080000      0.000000       0.000000          55.120000   \n",
       "25%      25.000000      0.000000       0.000000          77.245000   \n",
       "50%      45.000000      0.000000       0.000000          91.885000   \n",
       "75%      61.000000      0.000000       0.000000         114.090000   \n",
       "max      82.000000      1.000000       1.000000         271.740000   \n",
       "\n",
       "               bmi       stroke  \n",
       "count  4909.000000  5110.000000  \n",
       "mean     28.893237     0.048728  \n",
       "std       7.854067     0.215320  \n",
       "min      10.300000     0.000000  \n",
       "25%      23.500000     0.000000  \n",
       "50%      28.100000     0.000000  \n",
       "75%      33.100000     0.000000  \n",
       "max      97.600000     1.000000  "
      ]
     },
     "execution_count": 8,
     "metadata": {},
     "output_type": "execute_result"
    }
   ],
   "source": [
    "df.describe()"
   ]
  },
  {
   "cell_type": "markdown",
   "id": "7764d07d",
   "metadata": {},
   "source": [
    "Observations :\n",
    "<p>1.BMI contains missing values.</p>\n",
    "<p>2.The average age is 43.</p>\n",
    "<p>3.The average bmi is 28 (will change after imputation).</p>\n",
    "<p>4.The minimum age is questionable.</p>\n",
    "<p>5.Average glucose level is 106 (can be useful later).</p>"
   ]
  },
  {
   "cell_type": "markdown",
   "id": "98ad8fb2",
   "metadata": {},
   "source": [
    "# 3. Exploratory Data Analysis  "
   ]
  },
  {
   "cell_type": "markdown",
   "id": "60db7f71",
   "metadata": {},
   "source": [
    "In this part I have Done EDA for our data"
   ]
  },
  {
   "cell_type": "code",
   "execution_count": 9,
   "id": "002b4eea",
   "metadata": {},
   "outputs": [],
   "source": [
    "df=df.fillna(np.mean(df['bmi']))"
   ]
  },
  {
   "cell_type": "markdown",
   "id": "d230a116",
   "metadata": {},
   "source": [
    "We handled missing values and filled the missing values with the mean."
   ]
  },
  {
   "cell_type": "code",
   "execution_count": 10,
   "id": "bafef487",
   "metadata": {},
   "outputs": [
    {
     "name": "stdout",
     "output_type": "stream",
     "text": [
      "gender               0\n",
      "age                  0\n",
      "hypertension         0\n",
      "heart_disease        0\n",
      "ever_married         0\n",
      "work_type            0\n",
      "Residence_type       0\n",
      "avg_glucose_level    0\n",
      "bmi                  0\n",
      "smoking_status       0\n",
      "stroke               0\n",
      "dtype: int64\n"
     ]
    }
   ],
   "source": [
    "print(df.isnull().sum())"
   ]
  },
  {
   "cell_type": "code",
   "execution_count": 11,
   "id": "47b25451",
   "metadata": {},
   "outputs": [
    {
     "name": "stdout",
     "output_type": "stream",
     "text": [
      "(5110, 11)\n"
     ]
    }
   ],
   "source": [
    "print(df.shape)"
   ]
  },
  {
   "cell_type": "code",
   "execution_count": 12,
   "id": "cc79affc",
   "metadata": {},
   "outputs": [
    {
     "name": "stdout",
     "output_type": "stream",
     "text": [
      "gender                object\n",
      "age                  float64\n",
      "hypertension           int64\n",
      "heart_disease          int64\n",
      "ever_married          object\n",
      "work_type             object\n",
      "Residence_type        object\n",
      "avg_glucose_level    float64\n",
      "bmi                  float64\n",
      "smoking_status        object\n",
      "stroke                 int64\n",
      "dtype: object\n"
     ]
    }
   ],
   "source": [
    "print(df.dtypes)"
   ]
  },
  {
   "cell_type": "code",
   "execution_count": 13,
   "id": "5aeedd5c",
   "metadata": {},
   "outputs": [
    {
     "data": {
      "text/plain": [
       "<AxesSubplot:xlabel='stroke', ylabel='count'>"
      ]
     },
     "execution_count": 13,
     "metadata": {},
     "output_type": "execute_result"
    },
    {
     "data": {
      "image/png": "[encoded data removed]",
      "text/plain": [
       "<Figure size 432x288 with 1 Axes>"
      ]
     },
     "metadata": {
      "needs_background": "light"
     },
     "output_type": "display_data"
    }
   ],
   "source": [
    "colors = [\"#AEC6CF\",\"#6B8E23\", \"#B39EB5\", \"#C44E52\"]\n",
    "sns.countplot(data=df,x='stroke', palette=colors)"
   ]
  },
  {
   "cell_type": "markdown",
   "id": "d0dc1c54",
   "metadata": {},
   "source": [
    "### 1) Male/Female who has more strokes."
   ]
  },
  {
   "cell_type": "code",
   "execution_count": 14,
   "id": "1e2659e5",
   "metadata": {},
   "outputs": [
    {
     "data": {
      "text/plain": [
       "Text(0.5, 1.0, 'The division of data by Geder')"
      ]
     },
     "execution_count": 14,
     "metadata": {},
     "output_type": "execute_result"
    },
    {
     "data": {
      "image/png": "[encoded data removed]",
      "text/plain": [
       "<Figure size 432x288 with 1 Axes>"
      ]
     },
     "metadata": {
      "needs_background": "light"
     },
     "output_type": "display_data"
    }
   ],
   "source": [
    "sns.countplot(x=\"gender\", data=df, palette=colors)\n",
    "plt.title (\"The division of data by Geder\",weight='bold', size=15)"
   ]
  },
  {
   "cell_type": "code",
   "execution_count": 15,
   "id": "0a349f39",
   "metadata": {},
   "outputs": [
    {
     "data": {
      "text/plain": [
       "Female    2994\n",
       "Male      2115\n",
       "Other        1\n",
       "Name: gender, dtype: int64"
      ]
     },
     "execution_count": 15,
     "metadata": {},
     "output_type": "execute_result"
    }
   ],
   "source": [
    "df['gender'].value_counts()"
   ]
  },
  {
   "cell_type": "code",
   "execution_count": 16,
   "id": "8d786057",
   "metadata": {},
   "outputs": [],
   "source": [
    "df['gender'] = df['gender'].apply(lambda x : 1 if x == 'Male' else 0) "
   ]
  },
  {
   "cell_type": "code",
   "execution_count": 17,
   "id": "397f7333",
   "metadata": {},
   "outputs": [
    {
     "data": {
      "text/plain": [
       "0    2995\n",
       "1    2115\n",
       "Name: gender, dtype: int64"
      ]
     },
     "execution_count": 17,
     "metadata": {},
     "output_type": "execute_result"
    },
    {
     "data": {
      "image/png": "[encoded data removed]",
      "text/plain": [
       "<Figure size 432x288 with 1 Axes>"
      ]
     },
     "metadata": {
      "needs_background": "light"
     },
     "output_type": "display_data"
    }
   ],
   "source": [
    "sns.countplot(x=\"gender\", data=df, palette=colors)\n",
    "plt.title (\"The division of data by Gender\",weight='bold', size=15)\n",
    "df['gender'].value_counts()"
   ]
  },
  {
   "cell_type": "markdown",
   "id": "3070f7b8",
   "metadata": {},
   "source": [
    "### 2) People of which age group are more likely to get a stroke.\n"
   ]
  },
  {
   "cell_type": "code",
   "execution_count": 18,
   "id": "21aba4d6",
   "metadata": {},
   "outputs": [
    {
     "name": "stdout",
     "output_type": "stream",
     "text": [
      "78.0    21\n",
      "80.0    17\n",
      "79.0    17\n",
      "81.0    14\n",
      "57.0    11\n",
      "76.0    10\n",
      "63.0     9\n",
      "74.0     9\n",
      "68.0     9\n",
      "82.0     9\n",
      "Name: age, dtype: int64\n"
     ]
    }
   ],
   "source": [
    "# Group the data by age and count the number of strokes in each age group\n",
    "age_counts = df.loc[df['stroke'] == 1, 'age'].value_counts()\n",
    "\n",
    "# Print the 10 age groups with the highest stroke counts\n",
    "print(age_counts.head(10))\n"
   ]
  },
  {
   "cell_type": "code",
   "execution_count": 19,
   "id": "ceafa09d",
   "metadata": {},
   "outputs": [
    {
     "data": {
      "image/png": "[encoded data removed]",
      "text/plain": [
       "<Figure size 720x360 with 1 Axes>"
      ]
     },
     "metadata": {
      "needs_background": "light"
     },
     "output_type": "display_data"
    }
   ],
   "source": [
    "# Plot a bar chart of the age counts\n",
    "fig, ax = plt.subplots(figsize=(10, 5))\n",
    "ax.bar(age_counts.index, age_counts.values)\n",
    "\n",
    "# Set the chart title and axis labels\n",
    "ax.set_title('Age Distribution of Strokes')\n",
    "ax.set_xlabel('Age')\n",
    "ax.set_ylabel('Stroke Count')\n",
    "\n",
    "# Set the x-axis to start from 0 and end at the maximum age plus 10 years\n",
    "ax.set_xlim([0, max(age_counts.index) + 10])\n",
    "\n",
    "# Show the plot\n",
    "plt.show()\n"
   ]
  },
  {
   "cell_type": "markdown",
   "id": "7828ffb6",
   "metadata": {},
   "source": [
    "### 3) Is hypertension a cause?"
   ]
  },
  {
   "cell_type": "code",
   "execution_count": 20,
   "id": "624d3618",
   "metadata": {},
   "outputs": [
    {
     "data": {
      "text/plain": [
       "Text(-0.7, 220, 'Hypertension and Stroke')"
      ]
     },
     "execution_count": 20,
     "metadata": {},
     "output_type": "execute_result"
    },
    {
     "data": {
      "image/png": "[encoded data removed]",
      "text/plain": [
       "<Figure size 720x360 with 1 Axes>"
      ]
     },
     "metadata": {
      "needs_background": "light"
     },
     "output_type": "display_data"
    }
   ],
   "source": [
    "# create a pivot table with stroke count by hypertension\n",
    "pd_stroke = pd.pivot_table(data=df[df['stroke']==1], index=df['hypertension'], values='stroke', aggfunc='count').reset_index()\n",
    "\n",
    "# set figure and plot size\n",
    "fig, ax = plt.subplots(figsize=(10, 5))\n",
    "\n",
    "# create bar plot with seaborn\n",
    "sns.barplot(ax=ax, x=pd_stroke['hypertension'], y=pd_stroke['stroke'], palette='OrRd')\n",
    "\n",
    "# add text labels for each bar\n",
    "for idx, val in enumerate(pd_stroke['stroke']):\n",
    "    ax.text(idx, val+1, round(val, 1), horizontalalignment='center')\n",
    "\n",
    "\n",
    "# add plot title\n",
    "plt.text(-0.7, 220, 'Hypertension and Stroke', fontsize=18, fontweight='bold', fontfamily='serif')\n",
    "\n"
   ]
  },
  {
   "cell_type": "markdown",
   "id": "43ee0e5a",
   "metadata": {},
   "source": [
    "### 4) A person with heart disease is more likely to get a stroke."
   ]
  },
  {
   "cell_type": "code",
   "execution_count": 21,
   "id": "9ea9ae38",
   "metadata": {},
   "outputs": [
    {
     "data": {
      "text/plain": [
       "Text(-0.7, 220, 'Heart Disease and Stroke')"
      ]
     },
     "execution_count": 21,
     "metadata": {},
     "output_type": "execute_result"
    },
    {
     "data": {
      "image/png": "[encoded data removed]",
      "text/plain": [
       "<Figure size 720x360 with 1 Axes>"
      ]
     },
     "metadata": {
      "needs_background": "light"
     },
     "output_type": "display_data"
    }
   ],
   "source": [
    "# create a pivot table with stroke count by heart disease\n",
    "pd_stroke = pd.pivot_table(data=df[df['stroke']==1], index=df['heart_disease'], values='stroke', aggfunc='count').reset_index()\n",
    "\n",
    "# set figure and plot size\n",
    "fig, ax = plt.subplots(figsize=(10, 5))\n",
    "\n",
    "# create bar plot with seaborn\n",
    "sns.barplot(ax=ax, x=pd_stroke['heart_disease'], y=pd_stroke['stroke'], palette='OrRd')\n",
    "\n",
    "# add text labels for each bar\n",
    "for idx, val in enumerate(pd_stroke['stroke']):\n",
    "    ax.text(idx, val+1, round(val, 1), horizontalalignment='center')\n",
    "\n",
    "\n",
    "# add plot title\n",
    "plt.text(-0.7, 220, 'Heart Disease and Stroke', fontsize=18, fontweight='bold', fontfamily='serif')\n",
    "\n"
   ]
  },
  {
   "cell_type": "markdown",
   "id": "d08e2ebd",
   "metadata": {},
   "source": [
    "### 5) Marriage may be a cause of strokes"
   ]
  },
  {
   "cell_type": "code",
   "execution_count": 22,
   "id": "6fc1c497",
   "metadata": {},
   "outputs": [
    {
     "data": {
      "text/plain": [
       "<AxesSubplot:xlabel='ever_married', ylabel='count'>"
      ]
     },
     "execution_count": 22,
     "metadata": {},
     "output_type": "execute_result"
    },
    {
     "data": {
      "image/png": "[encoded data removed]",
      "text/plain": [
       "<Figure size 432x288 with 1 Axes>"
      ]
     },
     "metadata": {
      "needs_background": "light"
     },
     "output_type": "display_data"
    }
   ],
   "source": [
    "# Group the data by stroke and marriage columns, and count the number of occurrences in each group\n",
    "pd_stroke_marriage = df.groupby(['stroke', 'ever_married'])['stroke'].count().reset_index(name='count')\n",
    "\n",
    "# Plot a grouped bar plot\n",
    "sns.barplot(x='ever_married', y='count', hue='stroke', data=pd_stroke_marriage , palette = colors)\n"
   ]
  },
  {
   "cell_type": "markdown",
   "id": "12367af2",
   "metadata": {},
   "source": [
    "### 6) People working in private jobs may be the majority of people with strokes(mostly cause of stress)."
   ]
  },
  {
   "cell_type": "code",
   "execution_count": 23,
   "id": "25eec6c3",
   "metadata": {},
   "outputs": [
    {
     "data": {
      "image/png": "[encoded data removed]",
      "text/plain": [
       "<Figure size 720x360 with 1 Axes>"
      ]
     },
     "metadata": {
      "needs_background": "light"
     },
     "output_type": "display_data"
    }
   ],
   "source": [
    "# Create a pivot table for stroke count by work type\n",
    "pd_stroke = df[df['stroke'] == 1].pivot_table(index='work_type', values='stroke', aggfunc='count').reset_index()\n",
    "\n",
    "# Create a bar chart\n",
    "fig, ax = plt.subplots(figsize=(10, 5))\n",
    "sns.barplot(x='work_type', y='stroke', data=pd_stroke, palette=colors, ax=ax)\n",
    "\n",
    "# Add labels and formatting\n",
    "ax.set_xlabel('Work Type', fontsize=12)\n",
    "ax.set_ylabel('Stroke Count', fontsize=12)\n",
    "ax.set_title('Work Type and Stroke', fontsize=16, fontweight='bold')\n",
    "ax.grid(axis='y', linestyle=':', alpha=0.5)\n",
    "sns.despine()\n",
    "\n",
    "# Add data labels to the bars\n",
    "for idx, val in enumerate(pd_stroke['stroke']):\n",
    "    ax.text(idx, val+1, round(val, 1), ha='center', fontsize=10)\n"
   ]
  },
  {
   "cell_type": "markdown",
   "id": "bbfc29c5",
   "metadata": {},
   "source": [
    "### 7) Evaluating the neumerical variables with the target variable"
   ]
  },
  {
   "cell_type": "code",
   "execution_count": 24,
   "id": "0adccc27",
   "metadata": {},
   "outputs": [],
   "source": [
    "# Classifying data into numerical and categorical variables.\n",
    "df_numerical=df[['age','avg_glucose_level','bmi']]\n",
    "df_categorical=df[['gender', 'hypertension', 'heart_disease', 'ever_married','work_type', 'Residence_type', \n",
    "                       'smoking_status', 'stroke']]"
   ]
  },
  {
   "cell_type": "code",
   "execution_count": 25,
   "id": "ea522710",
   "metadata": {},
   "outputs": [
    {
     "data": {
      "text/plain": [
       "Text(0.5, 1.0, 'Kde Plots for age, avg_glucose_level and bmi')"
      ]
     },
     "execution_count": 25,
     "metadata": {},
     "output_type": "execute_result"
    },
    {
     "data": {
      "image/png": "[encoded data removed]",
      "text/plain": [
       "<Figure size 864x432 with 1 Axes>"
      ]
     },
     "metadata": {},
     "output_type": "display_data"
    }
   ],
   "source": [
    "fig, ax = plt.subplots(figsize = (12,6))\n",
    "fig.patch.set_facecolor('#f6f5f7') ## colour outside the graph \n",
    "ax.set_facecolor('#f6f5f5') ##colour inside the graph\n",
    "sns.kdeplot(data=df_numerical,shade=True,palette='rocket') # Distributions\n",
    "\n",
    "plt.title('Kde Plots for age, avg_glucose_level and bmi',weight='bold')"
   ]
  },
  {
   "cell_type": "code",
   "execution_count": 26,
   "id": "4782b82b",
   "metadata": {},
   "outputs": [
    {
     "data": {
      "text/html": [
       "<div>\n",
       "<style scoped>\n",
       "    .dataframe tbody tr th:only-of-type {\n",
       "        vertical-align: middle;\n",
       "    }\n",
       "\n",
       "    .dataframe tbody tr th {\n",
       "        vertical-align: top;\n",
       "    }\n",
       "\n",
       "    .dataframe thead th {\n",
       "        text-align: right;\n",
       "    }\n",
       "</style>\n",
       "<table border=\"1\" class=\"dataframe\">\n",
       "  <thead>\n",
       "    <tr style=\"text-align: right;\">\n",
       "      <th></th>\n",
       "      <th>Columns</th>\n",
       "      <th>Skewness</th>\n",
       "      <th>Kurtosis</th>\n",
       "    </tr>\n",
       "  </thead>\n",
       "  <tbody>\n",
       "    <tr>\n",
       "      <th>0</th>\n",
       "      <td>age</td>\n",
       "      <td>-0.137059</td>\n",
       "      <td>-0.991010</td>\n",
       "    </tr>\n",
       "    <tr>\n",
       "      <th>1</th>\n",
       "      <td>avg_glucose_level</td>\n",
       "      <td>1.572284</td>\n",
       "      <td>1.680479</td>\n",
       "    </tr>\n",
       "    <tr>\n",
       "      <th>2</th>\n",
       "      <td>bmi</td>\n",
       "      <td>1.076716</td>\n",
       "      <td>3.623061</td>\n",
       "    </tr>\n",
       "  </tbody>\n",
       "</table>\n",
       "</div>"
      ],
      "text/plain": [
       "             Columns  Skewness  Kurtosis\n",
       "0                age -0.137059 -0.991010\n",
       "1  avg_glucose_level  1.572284  1.680479\n",
       "2                bmi  1.076716  3.623061"
      ]
     },
     "execution_count": 26,
     "metadata": {},
     "output_type": "execute_result"
    }
   ],
   "source": [
    "# Skewness and kurtosis\n",
    "s_k=[]\n",
    "for i in df_numerical.columns:\n",
    "    s_k.append([i,df_numerical[i].skew(),df_numerical[i].kurt()])\n",
    "skew_kurt=pd.DataFrame(s_k,columns=['Columns','Skewness','Kurtosis'])\n",
    "skew_kurt"
   ]
  },
  {
   "cell_type": "code",
   "execution_count": 27,
   "id": "1bd4ad1b",
   "metadata": {},
   "outputs": [
    {
     "data": {
      "image/png": "[encoded data removed]",
      "text/plain": [
       "<Figure size 360x360 with 1 Axes>"
      ]
     },
     "metadata": {
      "needs_background": "light"
     },
     "output_type": "display_data"
    },
    {
     "data": {
      "image/png": "[encoded data removed]",
      "text/plain": [
       "<Figure size 360x360 with 1 Axes>"
      ]
     },
     "metadata": {
      "needs_background": "light"
     },
     "output_type": "display_data"
    },
    {
     "data": {
      "image/png": "[encoded data removed]",
      "text/plain": [
       "<Figure size 360x360 with 1 Axes>"
      ]
     },
     "metadata": {
      "needs_background": "light"
     },
     "output_type": "display_data"
    }
   ],
   "source": [
    "# Strip plot of numerical variables with respect to stroke\n",
    "for col in df_numerical.columns:\n",
    "    plt.figure(figsize=(5,5))\n",
    "    sns.stripplot(data=df, x='stroke', y=col , palette = colors)\n",
    "    plt.show()\n",
    "\n"
   ]
  },
  {
   "cell_type": "markdown",
   "id": "21eaa13d",
   "metadata": {},
   "source": [
    "### 8) People living in urban areas have more chances of getting stroke? (need to confirm)"
   ]
  },
  {
   "cell_type": "code",
   "execution_count": 28,
   "id": "677a5e76",
   "metadata": {},
   "outputs": [
    {
     "data": {
      "text/plain": [
       "<AxesSubplot:xlabel='Residence_type', ylabel='count'>"
      ]
     },
     "execution_count": 28,
     "metadata": {},
     "output_type": "execute_result"
    },
    {
     "data": {
      "image/png": "[encoded data removed]",
      "text/plain": [
       "<Figure size 432x288 with 1 Axes>"
      ]
     },
     "metadata": {
      "needs_background": "light"
     },
     "output_type": "display_data"
    }
   ],
   "source": [
    "import seaborn as sns\n",
    "\n",
    "# Create a bar plot of stroke counts based on residence type\n",
    "sns.countplot(data=df, x='Residence_type', hue='stroke', palette = colors)\n"
   ]
  },
  {
   "cell_type": "markdown",
   "id": "029d64e9",
   "metadata": {},
   "source": [
    "### 9) BMI must be closely observed with age and gender."
   ]
  },
  {
   "cell_type": "code",
   "execution_count": 29,
   "id": "e11ee18b",
   "metadata": {},
   "outputs": [
    {
     "data": {
      "text/plain": [
       "<AxesSubplot:xlabel='age', ylabel='bmi'>"
      ]
     },
     "execution_count": 29,
     "metadata": {},
     "output_type": "execute_result"
    },
    {
     "data": {
      "image/png": "[encoded data removed]",
      "text/plain": [
       "<Figure size 432x288 with 1 Axes>"
      ]
     },
     "metadata": {
      "needs_background": "light"
     },
     "output_type": "display_data"
    }
   ],
   "source": [
    "#In this scatterplot we can observe the relationship between age, bmi and gender.\n",
    "sns.scatterplot(data=df, x=\"age\", y=\"bmi\", hue=\"gender\")\n"
   ]
  },
  {
   "cell_type": "markdown",
   "id": "b13dfd2d",
   "metadata": {},
   "source": [
    "### 10) People who smoke are more likely to get a stroke (need confirmation)."
   ]
  },
  {
   "cell_type": "code",
   "execution_count": 30,
   "id": "ec43f392",
   "metadata": {},
   "outputs": [
    {
     "data": {
      "image/png": "[encoded data removed]",
      "text/plain": [
       "<Figure size 720x360 with 1 Axes>"
      ]
     },
     "metadata": {
      "needs_background": "light"
     },
     "output_type": "display_data"
    }
   ],
   "source": [
    "pd_stroke = df[df['stroke']==1]['smoking_status'].value_counts().reset_index()\n",
    "pd_stroke.columns = ['smoking_status', 'stroke_count']\n",
    "colors1 = [\"#87CEEB\",\"#FFA07A\",\"#D4D4D4\",\"#8B0000\"]\n",
    "plt.figure(figsize=(10, 5))\n",
    "sns.barplot(data=pd_stroke, x='smoking_status', y='stroke_count', palette = colors1)\n",
    "plt.title('Smoking Status and Stroke', fontsize=18, fontweight='bold', fontfamily='serif')\n",
    "plt.xlabel('Smoking Status')\n",
    "plt.ylabel('Stroke Count')\n",
    "sns.despine()\n",
    "plt.show()\n"
   ]
  },
  {
   "cell_type": "markdown",
   "id": "c9313c48",
   "metadata": {},
   "source": [
    "### Correlation "
   ]
  },
  {
   "cell_type": "code",
   "execution_count": 31,
   "id": "fb3674b5",
   "metadata": {},
   "outputs": [
    {
     "data": {
      "text/plain": [
       "Text(0.5, 1.0, 'kendall correlation')"
      ]
     },
     "execution_count": 31,
     "metadata": {},
     "output_type": "execute_result"
    },
    {
     "data": {
      "image/png": "[encoded data removed]",
      "text/plain": [
       "<Figure size 720x576 with 2 Axes>"
      ]
     },
     "metadata": {
      "needs_background": "light"
     },
     "output_type": "display_data"
    }
   ],
   "source": [
    "plt.figure(figsize = (10,8))\n",
    "sns.heatmap(df.corr(method = \"kendall\"), cmap = 'coolwarm', annot = True);\n",
    "plt.title(\"kendall correlation\",fontsize = 15)"
   ]
  },
  {
   "cell_type": "code",
   "execution_count": 32,
   "id": "680233f9",
   "metadata": {},
   "outputs": [
    {
     "data": {
      "text/plain": [
       "Text(0.5, 1.0, 'Spearmen correlation')"
      ]
     },
     "execution_count": 32,
     "metadata": {},
     "output_type": "execute_result"
    },
    {
     "data": {
      "image/png": "[encoded data removed]",
      "text/plain": [
       "<Figure size 720x576 with 2 Axes>"
      ]
     },
     "metadata": {
      "needs_background": "light"
     },
     "output_type": "display_data"
    }
   ],
   "source": [
    "plt.figure(figsize = (10,8))\n",
    "sns.heatmap(df.corr(method = \"spearman\"), cmap = 'coolwarm', annot = True);\n",
    "plt.title(\"Spearmen correlation\",fontsize = 15)"
   ]
  },
  {
   "cell_type": "markdown",
   "id": "8c1a962b",
   "metadata": {},
   "source": [
    "# Data Preprocessing"
   ]
  },
  {
   "cell_type": "code",
   "execution_count": 33,
   "id": "e9241427",
   "metadata": {},
   "outputs": [],
   "source": [
    "# Convert categorical variables to binary variables\n",
    "# We already converted gender above\n",
    "df['Residence_type'] = df['Residence_type'].apply(lambda x : 1 if x == 'Urban' else 0)\n",
    "df['ever_married'] = df['ever_married'].apply(lambda x : 1 if x == 'Yes' else 0)\n",
    "\n",
    "# Remove observations with unknown smoking status\n",
    "df = df[df['smoking_status'] != 'Unknown']\n"
   ]
  },
  {
   "cell_type": "code",
   "execution_count": 34,
   "id": "63d74175",
   "metadata": {},
   "outputs": [],
   "source": [
    "# One Hot encoding smoking_status, work_type\n",
    "df_dummies = df[['smoking_status','work_type']]\n",
    "df_dummies=pd.get_dummies(df_dummies)\n",
    "df.drop(columns=['smoking_status','work_type'],inplace=True)"
   ]
  },
  {
   "cell_type": "code",
   "execution_count": 35,
   "id": "f5d03a5c",
   "metadata": {},
   "outputs": [],
   "source": [
    "df_stroke=df['stroke']\n",
    "df.drop(columns=['stroke'],inplace=True)\n",
    "df=df.merge(df_dummies,left_index=True, right_index=True,how='left')"
   ]
  },
  {
   "cell_type": "code",
   "execution_count": 36,
   "id": "903c8e73",
   "metadata": {},
   "outputs": [],
   "source": [
    "from sklearn.model_selection import train_test_split\n",
    "x_train,x_test,y_train,y_test = train_test_split(df,df_stroke,test_size=0.25,random_state=0)"
   ]
  },
  {
   "cell_type": "code",
   "execution_count": 37,
   "id": "6e158e88",
   "metadata": {},
   "outputs": [],
   "source": [
    "# Standardizing our training and testing data.\n",
    "from sklearn.preprocessing import StandardScaler\n",
    "scaler = StandardScaler()\n",
    "x_train = scaler.fit_transform(x_train)\n",
    "x_test = scaler.transform(x_test)\n",
    "\n",
    "#We perform feature scaling after splitting the data into training and testing sets in order to avoid data leakage."
   ]
  },
  {
   "cell_type": "code",
   "execution_count": 38,
   "id": "011642e1",
   "metadata": {},
   "outputs": [],
   "source": [
    "from imblearn.over_sampling import SMOTE\n",
    "sm = SMOTE(random_state=4)\n",
    "x_train, y_train = sm.fit_resample(x_train, y_train.ravel())"
   ]
  },
  {
   "cell_type": "code",
   "execution_count": null,
   "id": "174aa441",
   "metadata": {},
   "outputs": [],
   "source": []
  },
  {
   "cell_type": "code",
   "execution_count": 39,
   "id": "8f581cbb",
   "metadata": {},
   "outputs": [
    {
     "data": {
      "text/html": [
       "<div>\n",
       "<style scoped>\n",
       "    .dataframe tbody tr th:only-of-type {\n",
       "        vertical-align: middle;\n",
       "    }\n",
       "\n",
       "    .dataframe tbody tr th {\n",
       "        vertical-align: top;\n",
       "    }\n",
       "\n",
       "    .dataframe thead th {\n",
       "        text-align: right;\n",
       "    }\n",
       "</style>\n",
       "<table border=\"1\" class=\"dataframe\">\n",
       "  <thead>\n",
       "    <tr style=\"text-align: right;\">\n",
       "      <th></th>\n",
       "      <th>gender</th>\n",
       "      <th>age</th>\n",
       "      <th>hypertension</th>\n",
       "      <th>heart_disease</th>\n",
       "      <th>ever_married</th>\n",
       "      <th>Residence_type</th>\n",
       "      <th>avg_glucose_level</th>\n",
       "      <th>bmi</th>\n",
       "      <th>smoking_status_formerly smoked</th>\n",
       "      <th>smoking_status_never smoked</th>\n",
       "      <th>smoking_status_smokes</th>\n",
       "      <th>work_type_Govt_job</th>\n",
       "      <th>work_type_Never_worked</th>\n",
       "      <th>work_type_Private</th>\n",
       "      <th>work_type_Self-employed</th>\n",
       "      <th>work_type_children</th>\n",
       "    </tr>\n",
       "  </thead>\n",
       "  <tbody>\n",
       "    <tr>\n",
       "      <th>0</th>\n",
       "      <td>1</td>\n",
       "      <td>67.0</td>\n",
       "      <td>0</td>\n",
       "      <td>1</td>\n",
       "      <td>1</td>\n",
       "      <td>1</td>\n",
       "      <td>228.69</td>\n",
       "      <td>36.600000</td>\n",
       "      <td>1</td>\n",
       "      <td>0</td>\n",
       "      <td>0</td>\n",
       "      <td>0</td>\n",
       "      <td>0</td>\n",
       "      <td>1</td>\n",
       "      <td>0</td>\n",
       "      <td>0</td>\n",
       "    </tr>\n",
       "    <tr>\n",
       "      <th>1</th>\n",
       "      <td>0</td>\n",
       "      <td>61.0</td>\n",
       "      <td>0</td>\n",
       "      <td>0</td>\n",
       "      <td>1</td>\n",
       "      <td>0</td>\n",
       "      <td>202.21</td>\n",
       "      <td>28.893237</td>\n",
       "      <td>0</td>\n",
       "      <td>1</td>\n",
       "      <td>0</td>\n",
       "      <td>0</td>\n",
       "      <td>0</td>\n",
       "      <td>0</td>\n",
       "      <td>1</td>\n",
       "      <td>0</td>\n",
       "    </tr>\n",
       "    <tr>\n",
       "      <th>2</th>\n",
       "      <td>1</td>\n",
       "      <td>80.0</td>\n",
       "      <td>0</td>\n",
       "      <td>1</td>\n",
       "      <td>1</td>\n",
       "      <td>0</td>\n",
       "      <td>105.92</td>\n",
       "      <td>32.500000</td>\n",
       "      <td>0</td>\n",
       "      <td>1</td>\n",
       "      <td>0</td>\n",
       "      <td>0</td>\n",
       "      <td>0</td>\n",
       "      <td>1</td>\n",
       "      <td>0</td>\n",
       "      <td>0</td>\n",
       "    </tr>\n",
       "    <tr>\n",
       "      <th>3</th>\n",
       "      <td>0</td>\n",
       "      <td>49.0</td>\n",
       "      <td>0</td>\n",
       "      <td>0</td>\n",
       "      <td>1</td>\n",
       "      <td>1</td>\n",
       "      <td>171.23</td>\n",
       "      <td>34.400000</td>\n",
       "      <td>0</td>\n",
       "      <td>0</td>\n",
       "      <td>1</td>\n",
       "      <td>0</td>\n",
       "      <td>0</td>\n",
       "      <td>1</td>\n",
       "      <td>0</td>\n",
       "      <td>0</td>\n",
       "    </tr>\n",
       "    <tr>\n",
       "      <th>4</th>\n",
       "      <td>0</td>\n",
       "      <td>79.0</td>\n",
       "      <td>1</td>\n",
       "      <td>0</td>\n",
       "      <td>1</td>\n",
       "      <td>0</td>\n",
       "      <td>174.12</td>\n",
       "      <td>24.000000</td>\n",
       "      <td>0</td>\n",
       "      <td>1</td>\n",
       "      <td>0</td>\n",
       "      <td>0</td>\n",
       "      <td>0</td>\n",
       "      <td>0</td>\n",
       "      <td>1</td>\n",
       "      <td>0</td>\n",
       "    </tr>\n",
       "    <tr>\n",
       "      <th>...</th>\n",
       "      <td>...</td>\n",
       "      <td>...</td>\n",
       "      <td>...</td>\n",
       "      <td>...</td>\n",
       "      <td>...</td>\n",
       "      <td>...</td>\n",
       "      <td>...</td>\n",
       "      <td>...</td>\n",
       "      <td>...</td>\n",
       "      <td>...</td>\n",
       "      <td>...</td>\n",
       "      <td>...</td>\n",
       "      <td>...</td>\n",
       "      <td>...</td>\n",
       "      <td>...</td>\n",
       "      <td>...</td>\n",
       "    </tr>\n",
       "    <tr>\n",
       "      <th>5102</th>\n",
       "      <td>0</td>\n",
       "      <td>57.0</td>\n",
       "      <td>0</td>\n",
       "      <td>0</td>\n",
       "      <td>1</td>\n",
       "      <td>0</td>\n",
       "      <td>77.93</td>\n",
       "      <td>21.700000</td>\n",
       "      <td>0</td>\n",
       "      <td>1</td>\n",
       "      <td>0</td>\n",
       "      <td>0</td>\n",
       "      <td>0</td>\n",
       "      <td>1</td>\n",
       "      <td>0</td>\n",
       "      <td>0</td>\n",
       "    </tr>\n",
       "    <tr>\n",
       "      <th>5105</th>\n",
       "      <td>0</td>\n",
       "      <td>80.0</td>\n",
       "      <td>1</td>\n",
       "      <td>0</td>\n",
       "      <td>1</td>\n",
       "      <td>1</td>\n",
       "      <td>83.75</td>\n",
       "      <td>28.893237</td>\n",
       "      <td>0</td>\n",
       "      <td>1</td>\n",
       "      <td>0</td>\n",
       "      <td>0</td>\n",
       "      <td>0</td>\n",
       "      <td>1</td>\n",
       "      <td>0</td>\n",
       "      <td>0</td>\n",
       "    </tr>\n",
       "    <tr>\n",
       "      <th>5106</th>\n",
       "      <td>0</td>\n",
       "      <td>81.0</td>\n",
       "      <td>0</td>\n",
       "      <td>0</td>\n",
       "      <td>1</td>\n",
       "      <td>1</td>\n",
       "      <td>125.20</td>\n",
       "      <td>40.000000</td>\n",
       "      <td>0</td>\n",
       "      <td>1</td>\n",
       "      <td>0</td>\n",
       "      <td>0</td>\n",
       "      <td>0</td>\n",
       "      <td>0</td>\n",
       "      <td>1</td>\n",
       "      <td>0</td>\n",
       "    </tr>\n",
       "    <tr>\n",
       "      <th>5107</th>\n",
       "      <td>0</td>\n",
       "      <td>35.0</td>\n",
       "      <td>0</td>\n",
       "      <td>0</td>\n",
       "      <td>1</td>\n",
       "      <td>0</td>\n",
       "      <td>82.99</td>\n",
       "      <td>30.600000</td>\n",
       "      <td>0</td>\n",
       "      <td>1</td>\n",
       "      <td>0</td>\n",
       "      <td>0</td>\n",
       "      <td>0</td>\n",
       "      <td>0</td>\n",
       "      <td>1</td>\n",
       "      <td>0</td>\n",
       "    </tr>\n",
       "    <tr>\n",
       "      <th>5108</th>\n",
       "      <td>1</td>\n",
       "      <td>51.0</td>\n",
       "      <td>0</td>\n",
       "      <td>0</td>\n",
       "      <td>1</td>\n",
       "      <td>0</td>\n",
       "      <td>166.29</td>\n",
       "      <td>25.600000</td>\n",
       "      <td>1</td>\n",
       "      <td>0</td>\n",
       "      <td>0</td>\n",
       "      <td>0</td>\n",
       "      <td>0</td>\n",
       "      <td>1</td>\n",
       "      <td>0</td>\n",
       "      <td>0</td>\n",
       "    </tr>\n",
       "  </tbody>\n",
       "</table>\n",
       "<p>3566 rows × 16 columns</p>\n",
       "</div>"
      ],
      "text/plain": [
       "      gender   age  hypertension  heart_disease  ever_married  Residence_type  \\\n",
       "0          1  67.0             0              1             1               1   \n",
       "1          0  61.0             0              0             1               0   \n",
       "2          1  80.0             0              1             1               0   \n",
       "3          0  49.0             0              0             1               1   \n",
       "4          0  79.0             1              0             1               0   \n",
       "...      ...   ...           ...            ...           ...             ...   \n",
       "5102       0  57.0             0              0             1               0   \n",
       "5105       0  80.0             1              0             1               1   \n",
       "5106       0  81.0             0              0             1               1   \n",
       "5107       0  35.0             0              0             1               0   \n",
       "5108       1  51.0             0              0             1               0   \n",
       "\n",
       "      avg_glucose_level        bmi  smoking_status_formerly smoked  \\\n",
       "0                228.69  36.600000                               1   \n",
       "1                202.21  28.893237                               0   \n",
       "2                105.92  32.500000                               0   \n",
       "3                171.23  34.400000                               0   \n",
       "4                174.12  24.000000                               0   \n",
       "...                 ...        ...                             ...   \n",
       "5102              77.93  21.700000                               0   \n",
       "5105              83.75  28.893237                               0   \n",
       "5106             125.20  40.000000                               0   \n",
       "5107              82.99  30.600000                               0   \n",
       "5108             166.29  25.600000                               1   \n",
       "\n",
       "      smoking_status_never smoked  smoking_status_smokes  work_type_Govt_job  \\\n",
       "0                               0                      0                   0   \n",
       "1                               1                      0                   0   \n",
       "2                               1                      0                   0   \n",
       "3                               0                      1                   0   \n",
       "4                               1                      0                   0   \n",
       "...                           ...                    ...                 ...   \n",
       "5102                            1                      0                   0   \n",
       "5105                            1                      0                   0   \n",
       "5106                            1                      0                   0   \n",
       "5107                            1                      0                   0   \n",
       "5108                            0                      0                   0   \n",
       "\n",
       "      work_type_Never_worked  work_type_Private  work_type_Self-employed  \\\n",
       "0                          0                  1                        0   \n",
       "1                          0                  0                        1   \n",
       "2                          0                  1                        0   \n",
       "3                          0                  1                        0   \n",
       "4                          0                  0                        1   \n",
       "...                      ...                ...                      ...   \n",
       "5102                       0                  1                        0   \n",
       "5105                       0                  1                        0   \n",
       "5106                       0                  0                        1   \n",
       "5107                       0                  0                        1   \n",
       "5108                       0                  1                        0   \n",
       "\n",
       "      work_type_children  \n",
       "0                      0  \n",
       "1                      0  \n",
       "2                      0  \n",
       "3                      0  \n",
       "4                      0  \n",
       "...                  ...  \n",
       "5102                   0  \n",
       "5105                   0  \n",
       "5106                   0  \n",
       "5107                   0  \n",
       "5108                   0  \n",
       "\n",
       "[3566 rows x 16 columns]"
      ]
     },
     "execution_count": 39,
     "metadata": {},
     "output_type": "execute_result"
    }
   ],
   "source": [
    "df"
   ]
  },
  {
   "cell_type": "code",
   "execution_count": null,
   "id": "5d0117d7",
   "metadata": {},
   "outputs": [],
   "source": []
  },
  {
   "cell_type": "code",
   "execution_count": 40,
   "id": "6ce44de4",
   "metadata": {},
   "outputs": [],
   "source": [
    "##Importing the models\n",
    "\n",
    "from sklearn.tree import DecisionTreeClassifier\n",
    "from sklearn.linear_model import LogisticRegression\n",
    "from sklearn import metrics\n",
    "from sklearn.metrics import accuracy_score\n",
    "from sklearn.metrics import confusion_matrix\n",
    "from sklearn.neighbors import KNeighborsClassifier\n",
    "from sklearn.svm import SVC\n",
    "# Preprocessing\n",
    "from sklearn.impute import SimpleImputer\n",
    "from sklearn.preprocessing import StandardScaler, OneHotEncoder\n",
    "from sklearn.model_selection import train_test_split\n",
    "from sklearn.compose import ColumnTransformer\n",
    "from sklearn.pipeline import Pipeline\n",
    "\n",
    "# Models\n",
    "from sklearn.linear_model import LogisticRegression\n",
    "from sklearn.ensemble import GradientBoostingClassifier, AdaBoostClassifier, RandomForestClassifier\n",
    "from sklearn.tree import DecisionTreeClassifier\n",
    "import xgboost\n",
    "\n",
    "# Evaluation\n",
    "from sklearn.metrics import classification_report, confusion_matrix"
   ]
  },
  {
   "cell_type": "code",
   "execution_count": null,
   "id": "87e33e52",
   "metadata": {},
   "outputs": [],
   "source": []
  },
  {
   "cell_type": "code",
   "execution_count": null,
   "id": "4513c5cf",
   "metadata": {},
   "outputs": [],
   "source": []
  },
  {
   "cell_type": "code",
   "execution_count": null,
   "id": "4f22ed56",
   "metadata": {},
   "outputs": [],
   "source": []
  },
  {
   "cell_type": "code",
   "execution_count": 41,
   "id": "38cd7d23",
   "metadata": {},
   "outputs": [],
   "source": [
    "models = dict()\n",
    "models['Dicision Tree'] = DecisionTreeClassifier(class_weight={0:1,1:2})\n",
    "models['Random Forest'] = RandomForestClassifier(class_weight={0:1,1:2})\n",
    "models['Logreg'] = LogisticRegression()\n",
    "models['GradientBoost'] = GradientBoostingClassifier()\n",
    "models['AdaBoost'] = AdaBoostClassifier()\n",
    "models['XGBoost'] = xgboost.XGBClassifier()\n",
    "models['SVM']= SVC(probability=True)\n",
    "models['KNeighbors']= KNeighborsClassifier()"
   ]
  },
  {
   "cell_type": "code",
   "execution_count": 42,
   "id": "93410e29",
   "metadata": {},
   "outputs": [
    {
     "name": "stdout",
     "output_type": "stream",
     "text": [
      "Dicision Tree : fit\n",
      "Random Forest : fit\n",
      "Logreg : fit\n",
      "GradientBoost : fit\n",
      "AdaBoost : fit\n",
      "XGBoost : fit\n",
      "SVM : fit\n",
      "KNeighbors : fit\n"
     ]
    }
   ],
   "source": [
    "for model in models:\n",
    "    models[model].fit(x_train, y_train)\n",
    "    print(model + ' : fit')"
   ]
  },
  {
   "cell_type": "code",
   "execution_count": 43,
   "id": "36167118",
   "metadata": {},
   "outputs": [
    {
     "name": "stdout",
     "output_type": "stream",
     "text": [
      "Train set prediction\n",
      "------------------------Dicision Tree------------------------\n",
      "[[2521    0]\n",
      " [   0 2521]]\n",
      "              precision    recall  f1-score   support\n",
      "\n",
      "           0       1.00      1.00      1.00      2521\n",
      "           1       1.00      1.00      1.00      2521\n",
      "\n",
      "    accuracy                           1.00      5042\n",
      "   macro avg       1.00      1.00      1.00      5042\n",
      "weighted avg       1.00      1.00      1.00      5042\n",
      "\n",
      "------------------------Random Forest------------------------\n",
      "[[2521    0]\n",
      " [   0 2521]]\n",
      "              precision    recall  f1-score   support\n",
      "\n",
      "           0       1.00      1.00      1.00      2521\n",
      "           1       1.00      1.00      1.00      2521\n",
      "\n",
      "    accuracy                           1.00      5042\n",
      "   macro avg       1.00      1.00      1.00      5042\n",
      "weighted avg       1.00      1.00      1.00      5042\n",
      "\n",
      "------------------------Logreg------------------------\n",
      "[[1819  702]\n",
      " [ 463 2058]]\n",
      "              precision    recall  f1-score   support\n",
      "\n",
      "           0       0.80      0.72      0.76      2521\n",
      "           1       0.75      0.82      0.78      2521\n",
      "\n",
      "    accuracy                           0.77      5042\n",
      "   macro avg       0.77      0.77      0.77      5042\n",
      "weighted avg       0.77      0.77      0.77      5042\n",
      "\n",
      "------------------------GradientBoost------------------------\n",
      "[[2267  254]\n",
      " [ 255 2266]]\n",
      "              precision    recall  f1-score   support\n",
      "\n",
      "           0       0.90      0.90      0.90      2521\n",
      "           1       0.90      0.90      0.90      2521\n",
      "\n",
      "    accuracy                           0.90      5042\n",
      "   macro avg       0.90      0.90      0.90      5042\n",
      "weighted avg       0.90      0.90      0.90      5042\n",
      "\n",
      "------------------------AdaBoost------------------------\n",
      "[[2001  520]\n",
      " [ 304 2217]]\n",
      "              precision    recall  f1-score   support\n",
      "\n",
      "           0       0.87      0.79      0.83      2521\n",
      "           1       0.81      0.88      0.84      2521\n",
      "\n",
      "    accuracy                           0.84      5042\n",
      "   macro avg       0.84      0.84      0.84      5042\n",
      "weighted avg       0.84      0.84      0.84      5042\n",
      "\n",
      "------------------------XGBoost------------------------\n",
      "[[2520    1]\n",
      " [   9 2512]]\n",
      "              precision    recall  f1-score   support\n",
      "\n",
      "           0       1.00      1.00      1.00      2521\n",
      "           1       1.00      1.00      1.00      2521\n",
      "\n",
      "    accuracy                           1.00      5042\n",
      "   macro avg       1.00      1.00      1.00      5042\n",
      "weighted avg       1.00      1.00      1.00      5042\n",
      "\n",
      "------------------------SVM------------------------\n",
      "[[2100  421]\n",
      " [ 157 2364]]\n",
      "              precision    recall  f1-score   support\n",
      "\n",
      "           0       0.93      0.83      0.88      2521\n",
      "           1       0.85      0.94      0.89      2521\n",
      "\n",
      "    accuracy                           0.89      5042\n",
      "   macro avg       0.89      0.89      0.89      5042\n",
      "weighted avg       0.89      0.89      0.89      5042\n",
      "\n",
      "------------------------KNeighbors------------------------\n",
      "[[2213  308]\n",
      " [  19 2502]]\n",
      "              precision    recall  f1-score   support\n",
      "\n",
      "           0       0.99      0.88      0.93      2521\n",
      "           1       0.89      0.99      0.94      2521\n",
      "\n",
      "    accuracy                           0.94      5042\n",
      "   macro avg       0.94      0.94      0.93      5042\n",
      "weighted avg       0.94      0.94      0.93      5042\n",
      "\n"
     ]
    }
   ],
   "source": [
    " print(\"Train set prediction\")\n",
    "for x in models:\n",
    "        \n",
    "    print('------------------------'+x+'------------------------')\n",
    "    model = models[x]\n",
    "    y_train_pred = model.predict(x_train)\n",
    "    arg_train = {'y_true':y_train, 'y_pred':y_train_pred}\n",
    "    print(confusion_matrix(**arg_train))\n",
    "    print(classification_report(**arg_train))"
   ]
  },
  {
   "cell_type": "code",
   "execution_count": 44,
   "id": "0ada6d11",
   "metadata": {},
   "outputs": [],
   "source": [
    "#The performance on train set is (too) good. That's because we use SMOTE. It makes model learn very well because of having a perfect balance dataset.\n",
    "#Next, see the performance in test set."
   ]
  },
  {
   "cell_type": "code",
   "execution_count": 45,
   "id": "3287e0b6",
   "metadata": {},
   "outputs": [
    {
     "name": "stdout",
     "output_type": "stream",
     "text": [
      "Test set prediction\n",
      "------------------------Dicision Tree------------------------\n",
      "[[742 101]\n",
      " [ 40   9]]\n",
      "              precision    recall  f1-score   support\n",
      "\n",
      "           0       0.95      0.88      0.91       843\n",
      "           1       0.08      0.18      0.11        49\n",
      "\n",
      "    accuracy                           0.84       892\n",
      "   macro avg       0.52      0.53      0.51       892\n",
      "weighted avg       0.90      0.84      0.87       892\n",
      "\n",
      "------------------------Random Forest------------------------\n",
      "[[796  47]\n",
      " [ 41   8]]\n",
      "              precision    recall  f1-score   support\n",
      "\n",
      "           0       0.95      0.94      0.95       843\n",
      "           1       0.15      0.16      0.15        49\n",
      "\n",
      "    accuracy                           0.90       892\n",
      "   macro avg       0.55      0.55      0.55       892\n",
      "weighted avg       0.91      0.90      0.90       892\n",
      "\n",
      "------------------------Logreg------------------------\n",
      "[[626 217]\n",
      " [ 16  33]]\n",
      "              precision    recall  f1-score   support\n",
      "\n",
      "           0       0.98      0.74      0.84       843\n",
      "           1       0.13      0.67      0.22        49\n",
      "\n",
      "    accuracy                           0.74       892\n",
      "   macro avg       0.55      0.71      0.53       892\n",
      "weighted avg       0.93      0.74      0.81       892\n",
      "\n",
      "------------------------GradientBoost------------------------\n",
      "[[769  74]\n",
      " [ 35  14]]\n",
      "              precision    recall  f1-score   support\n",
      "\n",
      "           0       0.96      0.91      0.93       843\n",
      "           1       0.16      0.29      0.20        49\n",
      "\n",
      "    accuracy                           0.88       892\n",
      "   macro avg       0.56      0.60      0.57       892\n",
      "weighted avg       0.91      0.88      0.89       892\n",
      "\n",
      "------------------------AdaBoost------------------------\n",
      "[[685 158]\n",
      " [ 23  26]]\n",
      "              precision    recall  f1-score   support\n",
      "\n",
      "           0       0.97      0.81      0.88       843\n",
      "           1       0.14      0.53      0.22        49\n",
      "\n",
      "    accuracy                           0.80       892\n",
      "   macro avg       0.55      0.67      0.55       892\n",
      "weighted avg       0.92      0.80      0.85       892\n",
      "\n",
      "------------------------XGBoost------------------------\n",
      "[[817  26]\n",
      " [ 42   7]]\n",
      "              precision    recall  f1-score   support\n",
      "\n",
      "           0       0.95      0.97      0.96       843\n",
      "           1       0.21      0.14      0.17        49\n",
      "\n",
      "    accuracy                           0.92       892\n",
      "   macro avg       0.58      0.56      0.57       892\n",
      "weighted avg       0.91      0.92      0.92       892\n",
      "\n",
      "------------------------SVM------------------------\n",
      "[[691 152]\n",
      " [ 28  21]]\n",
      "              precision    recall  f1-score   support\n",
      "\n",
      "           0       0.96      0.82      0.88       843\n",
      "           1       0.12      0.43      0.19        49\n",
      "\n",
      "    accuracy                           0.80       892\n",
      "   macro avg       0.54      0.62      0.54       892\n",
      "weighted avg       0.91      0.80      0.85       892\n",
      "\n",
      "------------------------KNeighbors------------------------\n",
      "[[694 149]\n",
      " [ 33  16]]\n",
      "              precision    recall  f1-score   support\n",
      "\n",
      "           0       0.95      0.82      0.88       843\n",
      "           1       0.10      0.33      0.15        49\n",
      "\n",
      "    accuracy                           0.80       892\n",
      "   macro avg       0.53      0.57      0.52       892\n",
      "weighted avg       0.91      0.80      0.84       892\n",
      "\n"
     ]
    }
   ],
   "source": [
    "print(\"Test set prediction\")\n",
    "for x in models:\n",
    "        \n",
    "    print('------------------------'+x+'------------------------')\n",
    "    model = models[x]\n",
    "    y_test_pred = model.predict(x_test)\n",
    "    arg_test = {'y_true':y_test, 'y_pred':y_test_pred}\n",
    "    print(confusion_matrix(**arg_test))\n",
    "    print(classification_report(**arg_test))"
   ]
  },
  {
   "cell_type": "code",
   "execution_count": 46,
   "id": "ceec6348",
   "metadata": {},
   "outputs": [
    {
     "data": {
      "text/html": [
       "<div>\n",
       "<style scoped>\n",
       "    .dataframe tbody tr th:only-of-type {\n",
       "        vertical-align: middle;\n",
       "    }\n",
       "\n",
       "    .dataframe tbody tr th {\n",
       "        vertical-align: top;\n",
       "    }\n",
       "\n",
       "    .dataframe thead th {\n",
       "        text-align: right;\n",
       "    }\n",
       "</style>\n",
       "<table border=\"1\" class=\"dataframe\">\n",
       "  <thead>\n",
       "    <tr style=\"text-align: right;\">\n",
       "      <th></th>\n",
       "      <th>gender</th>\n",
       "      <th>age</th>\n",
       "      <th>hypertension</th>\n",
       "      <th>heart_disease</th>\n",
       "      <th>ever_married</th>\n",
       "      <th>Residence_type</th>\n",
       "      <th>avg_glucose_level</th>\n",
       "      <th>bmi</th>\n",
       "      <th>smoking_status_formerly smoked</th>\n",
       "      <th>smoking_status_never smoked</th>\n",
       "      <th>smoking_status_smokes</th>\n",
       "      <th>work_type_Govt_job</th>\n",
       "      <th>work_type_Never_worked</th>\n",
       "      <th>work_type_Private</th>\n",
       "      <th>work_type_Self-employed</th>\n",
       "      <th>work_type_children</th>\n",
       "    </tr>\n",
       "  </thead>\n",
       "  <tbody>\n",
       "    <tr>\n",
       "      <th>0</th>\n",
       "      <td>1</td>\n",
       "      <td>67.0</td>\n",
       "      <td>0</td>\n",
       "      <td>1</td>\n",
       "      <td>1</td>\n",
       "      <td>1</td>\n",
       "      <td>228.69</td>\n",
       "      <td>36.600000</td>\n",
       "      <td>1</td>\n",
       "      <td>0</td>\n",
       "      <td>0</td>\n",
       "      <td>0</td>\n",
       "      <td>0</td>\n",
       "      <td>1</td>\n",
       "      <td>0</td>\n",
       "      <td>0</td>\n",
       "    </tr>\n",
       "    <tr>\n",
       "      <th>1</th>\n",
       "      <td>0</td>\n",
       "      <td>61.0</td>\n",
       "      <td>0</td>\n",
       "      <td>0</td>\n",
       "      <td>1</td>\n",
       "      <td>0</td>\n",
       "      <td>202.21</td>\n",
       "      <td>28.893237</td>\n",
       "      <td>0</td>\n",
       "      <td>1</td>\n",
       "      <td>0</td>\n",
       "      <td>0</td>\n",
       "      <td>0</td>\n",
       "      <td>0</td>\n",
       "      <td>1</td>\n",
       "      <td>0</td>\n",
       "    </tr>\n",
       "    <tr>\n",
       "      <th>2</th>\n",
       "      <td>1</td>\n",
       "      <td>80.0</td>\n",
       "      <td>0</td>\n",
       "      <td>1</td>\n",
       "      <td>1</td>\n",
       "      <td>0</td>\n",
       "      <td>105.92</td>\n",
       "      <td>32.500000</td>\n",
       "      <td>0</td>\n",
       "      <td>1</td>\n",
       "      <td>0</td>\n",
       "      <td>0</td>\n",
       "      <td>0</td>\n",
       "      <td>1</td>\n",
       "      <td>0</td>\n",
       "      <td>0</td>\n",
       "    </tr>\n",
       "    <tr>\n",
       "      <th>3</th>\n",
       "      <td>0</td>\n",
       "      <td>49.0</td>\n",
       "      <td>0</td>\n",
       "      <td>0</td>\n",
       "      <td>1</td>\n",
       "      <td>1</td>\n",
       "      <td>171.23</td>\n",
       "      <td>34.400000</td>\n",
       "      <td>0</td>\n",
       "      <td>0</td>\n",
       "      <td>1</td>\n",
       "      <td>0</td>\n",
       "      <td>0</td>\n",
       "      <td>1</td>\n",
       "      <td>0</td>\n",
       "      <td>0</td>\n",
       "    </tr>\n",
       "    <tr>\n",
       "      <th>4</th>\n",
       "      <td>0</td>\n",
       "      <td>79.0</td>\n",
       "      <td>1</td>\n",
       "      <td>0</td>\n",
       "      <td>1</td>\n",
       "      <td>0</td>\n",
       "      <td>174.12</td>\n",
       "      <td>24.000000</td>\n",
       "      <td>0</td>\n",
       "      <td>1</td>\n",
       "      <td>0</td>\n",
       "      <td>0</td>\n",
       "      <td>0</td>\n",
       "      <td>0</td>\n",
       "      <td>1</td>\n",
       "      <td>0</td>\n",
       "    </tr>\n",
       "    <tr>\n",
       "      <th>...</th>\n",
       "      <td>...</td>\n",
       "      <td>...</td>\n",
       "      <td>...</td>\n",
       "      <td>...</td>\n",
       "      <td>...</td>\n",
       "      <td>...</td>\n",
       "      <td>...</td>\n",
       "      <td>...</td>\n",
       "      <td>...</td>\n",
       "      <td>...</td>\n",
       "      <td>...</td>\n",
       "      <td>...</td>\n",
       "      <td>...</td>\n",
       "      <td>...</td>\n",
       "      <td>...</td>\n",
       "      <td>...</td>\n",
       "    </tr>\n",
       "    <tr>\n",
       "      <th>5102</th>\n",
       "      <td>0</td>\n",
       "      <td>57.0</td>\n",
       "      <td>0</td>\n",
       "      <td>0</td>\n",
       "      <td>1</td>\n",
       "      <td>0</td>\n",
       "      <td>77.93</td>\n",
       "      <td>21.700000</td>\n",
       "      <td>0</td>\n",
       "      <td>1</td>\n",
       "      <td>0</td>\n",
       "      <td>0</td>\n",
       "      <td>0</td>\n",
       "      <td>1</td>\n",
       "      <td>0</td>\n",
       "      <td>0</td>\n",
       "    </tr>\n",
       "    <tr>\n",
       "      <th>5105</th>\n",
       "      <td>0</td>\n",
       "      <td>80.0</td>\n",
       "      <td>1</td>\n",
       "      <td>0</td>\n",
       "      <td>1</td>\n",
       "      <td>1</td>\n",
       "      <td>83.75</td>\n",
       "      <td>28.893237</td>\n",
       "      <td>0</td>\n",
       "      <td>1</td>\n",
       "      <td>0</td>\n",
       "      <td>0</td>\n",
       "      <td>0</td>\n",
       "      <td>1</td>\n",
       "      <td>0</td>\n",
       "      <td>0</td>\n",
       "    </tr>\n",
       "    <tr>\n",
       "      <th>5106</th>\n",
       "      <td>0</td>\n",
       "      <td>81.0</td>\n",
       "      <td>0</td>\n",
       "      <td>0</td>\n",
       "      <td>1</td>\n",
       "      <td>1</td>\n",
       "      <td>125.20</td>\n",
       "      <td>40.000000</td>\n",
       "      <td>0</td>\n",
       "      <td>1</td>\n",
       "      <td>0</td>\n",
       "      <td>0</td>\n",
       "      <td>0</td>\n",
       "      <td>0</td>\n",
       "      <td>1</td>\n",
       "      <td>0</td>\n",
       "    </tr>\n",
       "    <tr>\n",
       "      <th>5107</th>\n",
       "      <td>0</td>\n",
       "      <td>35.0</td>\n",
       "      <td>0</td>\n",
       "      <td>0</td>\n",
       "      <td>1</td>\n",
       "      <td>0</td>\n",
       "      <td>82.99</td>\n",
       "      <td>30.600000</td>\n",
       "      <td>0</td>\n",
       "      <td>1</td>\n",
       "      <td>0</td>\n",
       "      <td>0</td>\n",
       "      <td>0</td>\n",
       "      <td>0</td>\n",
       "      <td>1</td>\n",
       "      <td>0</td>\n",
       "    </tr>\n",
       "    <tr>\n",
       "      <th>5108</th>\n",
       "      <td>1</td>\n",
       "      <td>51.0</td>\n",
       "      <td>0</td>\n",
       "      <td>0</td>\n",
       "      <td>1</td>\n",
       "      <td>0</td>\n",
       "      <td>166.29</td>\n",
       "      <td>25.600000</td>\n",
       "      <td>1</td>\n",
       "      <td>0</td>\n",
       "      <td>0</td>\n",
       "      <td>0</td>\n",
       "      <td>0</td>\n",
       "      <td>1</td>\n",
       "      <td>0</td>\n",
       "      <td>0</td>\n",
       "    </tr>\n",
       "  </tbody>\n",
       "</table>\n",
       "<p>3566 rows × 16 columns</p>\n",
       "</div>"
      ],
      "text/plain": [
       "      gender   age  hypertension  heart_disease  ever_married  Residence_type  \\\n",
       "0          1  67.0             0              1             1               1   \n",
       "1          0  61.0             0              0             1               0   \n",
       "2          1  80.0             0              1             1               0   \n",
       "3          0  49.0             0              0             1               1   \n",
       "4          0  79.0             1              0             1               0   \n",
       "...      ...   ...           ...            ...           ...             ...   \n",
       "5102       0  57.0             0              0             1               0   \n",
       "5105       0  80.0             1              0             1               1   \n",
       "5106       0  81.0             0              0             1               1   \n",
       "5107       0  35.0             0              0             1               0   \n",
       "5108       1  51.0             0              0             1               0   \n",
       "\n",
       "      avg_glucose_level        bmi  smoking_status_formerly smoked  \\\n",
       "0                228.69  36.600000                               1   \n",
       "1                202.21  28.893237                               0   \n",
       "2                105.92  32.500000                               0   \n",
       "3                171.23  34.400000                               0   \n",
       "4                174.12  24.000000                               0   \n",
       "...                 ...        ...                             ...   \n",
       "5102              77.93  21.700000                               0   \n",
       "5105              83.75  28.893237                               0   \n",
       "5106             125.20  40.000000                               0   \n",
       "5107              82.99  30.600000                               0   \n",
       "5108             166.29  25.600000                               1   \n",
       "\n",
       "      smoking_status_never smoked  smoking_status_smokes  work_type_Govt_job  \\\n",
       "0                               0                      0                   0   \n",
       "1                               1                      0                   0   \n",
       "2                               1                      0                   0   \n",
       "3                               0                      1                   0   \n",
       "4                               1                      0                   0   \n",
       "...                           ...                    ...                 ...   \n",
       "5102                            1                      0                   0   \n",
       "5105                            1                      0                   0   \n",
       "5106                            1                      0                   0   \n",
       "5107                            1                      0                   0   \n",
       "5108                            0                      0                   0   \n",
       "\n",
       "      work_type_Never_worked  work_type_Private  work_type_Self-employed  \\\n",
       "0                          0                  1                        0   \n",
       "1                          0                  0                        1   \n",
       "2                          0                  1                        0   \n",
       "3                          0                  1                        0   \n",
       "4                          0                  0                        1   \n",
       "...                      ...                ...                      ...   \n",
       "5102                       0                  1                        0   \n",
       "5105                       0                  1                        0   \n",
       "5106                       0                  0                        1   \n",
       "5107                       0                  0                        1   \n",
       "5108                       0                  1                        0   \n",
       "\n",
       "      work_type_children  \n",
       "0                      0  \n",
       "1                      0  \n",
       "2                      0  \n",
       "3                      0  \n",
       "4                      0  \n",
       "...                  ...  \n",
       "5102                   0  \n",
       "5105                   0  \n",
       "5106                   0  \n",
       "5107                   0  \n",
       "5108                   0  \n",
       "\n",
       "[3566 rows x 16 columns]"
      ]
     },
     "execution_count": 46,
     "metadata": {},
     "output_type": "execute_result"
    }
   ],
   "source": [
    "df"
   ]
  },
  {
   "cell_type": "code",
   "execution_count": 47,
   "id": "8bdac032",
   "metadata": {},
   "outputs": [
    {
     "data": {
      "image/png": "[encoded data removed]",
      "text/plain": [
       "<Figure size 936x432 with 1 Axes>"
      ]
     },
     "metadata": {
      "needs_background": "light"
     },
     "output_type": "display_data"
    }
   ],
   "source": [
    "from sklearn.metrics import roc_curve, roc_auc_score\n",
    "\n",
    "fig, ax = plt.subplots()\n",
    "fig.set_size_inches(13,6)\n",
    "\n",
    "for m in models:\n",
    "    y_pred = models[m].predict_proba(x_test)\n",
    "    fpr, tpr, _ = roc_curve(y_test, y_pred[:,1].ravel())\n",
    "    plt.plot(fpr,tpr, label=m)\n",
    "plt.xlabel('False-Positive rate')\n",
    "plt.ylabel('True-Positive rate')\n",
    "plt.legend()\n",
    "plt.show()"
   ]
  },
  {
   "cell_type": "code",
   "execution_count": 48,
   "id": "74f098ab",
   "metadata": {},
   "outputs": [
    {
     "name": "stdout",
     "output_type": "stream",
     "text": [
      "roc_auc_score\n",
      "Dicision Tree :  0.5319\n",
      "Random Forest :  0.7564\n",
      "Logreg :  0.8169\n",
      "GradientBoost :  0.779\n",
      "AdaBoost :  0.7771\n",
      "XGBoost :  0.7467\n",
      "SVM :  0.7353\n",
      "KNeighbors :  0.6141\n"
     ]
    }
   ],
   "source": [
    "print('roc_auc_score')\n",
    "for i in models:\n",
    "    model = models[i]\n",
    "    print(i + ' : ',roc_auc_score(y_test, model.predict_proba(x_test)[:, 1]).round(4))"
   ]
  },
  {
   "cell_type": "code",
   "execution_count": 49,
   "id": "e89af628",
   "metadata": {},
   "outputs": [],
   "source": [
    "## We can observe from the graph that Logreg (Logistic Regression) gave us the best accuracy.\n",
    "##It is the best model for our database."
   ]
  },
  {
   "cell_type": "code",
   "execution_count": 50,
   "id": "ebf8a205",
   "metadata": {},
   "outputs": [
    {
     "name": "stdout",
     "output_type": "stream",
     "text": [
      "Confusion matrix for Dicision Tree:\n",
      "[[746  97]\n",
      " [ 40   9]]\n",
      "Confusion matrix for Random Forest:\n",
      "[[791  52]\n",
      " [ 43   6]]\n",
      "Confusion matrix for Logreg:\n",
      "[[626 217]\n",
      " [ 16  33]]\n",
      "Confusion matrix for GradientBoost:\n",
      "[[769  74]\n",
      " [ 35  14]]\n",
      "Confusion matrix for AdaBoost:\n",
      "[[685 158]\n",
      " [ 23  26]]\n",
      "Confusion matrix for XGBoost:\n",
      "[[817  26]\n",
      " [ 42   7]]\n",
      "Confusion matrix for SVM:\n",
      "[[691 152]\n",
      " [ 28  21]]\n",
      "Confusion matrix for KNeighbors:\n",
      "[[694 149]\n",
      " [ 33  16]]\n"
     ]
    }
   ],
   "source": [
    "from sklearn.metrics import confusion_matrix\n",
    "import numpy as np\n",
    "\n",
    "# Train each model\n",
    "for name, model in models.items():\n",
    "    model.fit(x_train, y_train)\n",
    "    y_pred = model.predict(x_test)\n",
    "\n",
    "    # Generate confusion matrix\n",
    "    cm = confusion_matrix(y_test, y_pred)\n",
    "\n",
    "    # Print confusion matrix\n",
    "    print(f\"Confusion matrix for {name}:\")\n",
    "    print(cm)\n"
   ]
  },
  {
   "cell_type": "markdown",
   "id": "f3800338",
   "metadata": {},
   "source": [
    "# Unsupervised Learning"
   ]
  },
  {
   "cell_type": "code",
   "execution_count": 51,
   "id": "1f4cfd1f",
   "metadata": {
    "scrolled": true
   },
   "outputs": [],
   "source": [
    "data= pd.read_csv(\"/Users/ash/Downloads/healthcare-dataset-stroke-data 2.csv\")"
   ]
  },
  {
   "cell_type": "code",
   "execution_count": 52,
   "id": "faa21aaf",
   "metadata": {},
   "outputs": [
    {
     "data": {
      "text/html": [
       "<div>\n",
       "<style scoped>\n",
       "    .dataframe tbody tr th:only-of-type {\n",
       "        vertical-align: middle;\n",
       "    }\n",
       "\n",
       "    .dataframe tbody tr th {\n",
       "        vertical-align: top;\n",
       "    }\n",
       "\n",
       "    .dataframe thead th {\n",
       "        text-align: right;\n",
       "    }\n",
       "</style>\n",
       "<table border=\"1\" class=\"dataframe\">\n",
       "  <thead>\n",
       "    <tr style=\"text-align: right;\">\n",
       "      <th></th>\n",
       "      <th>id</th>\n",
       "      <th>gender</th>\n",
       "      <th>age</th>\n",
       "      <th>hypertension</th>\n",
       "      <th>heart_disease</th>\n",
       "      <th>ever_married</th>\n",
       "      <th>work_type</th>\n",
       "      <th>Residence_type</th>\n",
       "      <th>avg_glucose_level</th>\n",
       "      <th>bmi</th>\n",
       "      <th>smoking_status</th>\n",
       "      <th>stroke</th>\n",
       "    </tr>\n",
       "  </thead>\n",
       "  <tbody>\n",
       "    <tr>\n",
       "      <th>0</th>\n",
       "      <td>9046</td>\n",
       "      <td>Male</td>\n",
       "      <td>67.0</td>\n",
       "      <td>0</td>\n",
       "      <td>1</td>\n",
       "      <td>Yes</td>\n",
       "      <td>Private</td>\n",
       "      <td>Urban</td>\n",
       "      <td>228.69</td>\n",
       "      <td>36.6</td>\n",
       "      <td>formerly smoked</td>\n",
       "      <td>1</td>\n",
       "    </tr>\n",
       "    <tr>\n",
       "      <th>1</th>\n",
       "      <td>51676</td>\n",
       "      <td>Female</td>\n",
       "      <td>61.0</td>\n",
       "      <td>0</td>\n",
       "      <td>0</td>\n",
       "      <td>Yes</td>\n",
       "      <td>Self-employed</td>\n",
       "      <td>Rural</td>\n",
       "      <td>202.21</td>\n",
       "      <td>NaN</td>\n",
       "      <td>never smoked</td>\n",
       "      <td>1</td>\n",
       "    </tr>\n",
       "    <tr>\n",
       "      <th>2</th>\n",
       "      <td>31112</td>\n",
       "      <td>Male</td>\n",
       "      <td>80.0</td>\n",
       "      <td>0</td>\n",
       "      <td>1</td>\n",
       "      <td>Yes</td>\n",
       "      <td>Private</td>\n",
       "      <td>Rural</td>\n",
       "      <td>105.92</td>\n",
       "      <td>32.5</td>\n",
       "      <td>never smoked</td>\n",
       "      <td>1</td>\n",
       "    </tr>\n",
       "    <tr>\n",
       "      <th>3</th>\n",
       "      <td>60182</td>\n",
       "      <td>Female</td>\n",
       "      <td>49.0</td>\n",
       "      <td>0</td>\n",
       "      <td>0</td>\n",
       "      <td>Yes</td>\n",
       "      <td>Private</td>\n",
       "      <td>Urban</td>\n",
       "      <td>171.23</td>\n",
       "      <td>34.4</td>\n",
       "      <td>smokes</td>\n",
       "      <td>1</td>\n",
       "    </tr>\n",
       "    <tr>\n",
       "      <th>4</th>\n",
       "      <td>1665</td>\n",
       "      <td>Female</td>\n",
       "      <td>79.0</td>\n",
       "      <td>1</td>\n",
       "      <td>0</td>\n",
       "      <td>Yes</td>\n",
       "      <td>Self-employed</td>\n",
       "      <td>Rural</td>\n",
       "      <td>174.12</td>\n",
       "      <td>24.0</td>\n",
       "      <td>never smoked</td>\n",
       "      <td>1</td>\n",
       "    </tr>\n",
       "    <tr>\n",
       "      <th>...</th>\n",
       "      <td>...</td>\n",
       "      <td>...</td>\n",
       "      <td>...</td>\n",
       "      <td>...</td>\n",
       "      <td>...</td>\n",
       "      <td>...</td>\n",
       "      <td>...</td>\n",
       "      <td>...</td>\n",
       "      <td>...</td>\n",
       "      <td>...</td>\n",
       "      <td>...</td>\n",
       "      <td>...</td>\n",
       "    </tr>\n",
       "    <tr>\n",
       "      <th>5105</th>\n",
       "      <td>18234</td>\n",
       "      <td>Female</td>\n",
       "      <td>80.0</td>\n",
       "      <td>1</td>\n",
       "      <td>0</td>\n",
       "      <td>Yes</td>\n",
       "      <td>Private</td>\n",
       "      <td>Urban</td>\n",
       "      <td>83.75</td>\n",
       "      <td>NaN</td>\n",
       "      <td>never smoked</td>\n",
       "      <td>0</td>\n",
       "    </tr>\n",
       "    <tr>\n",
       "      <th>5106</th>\n",
       "      <td>44873</td>\n",
       "      <td>Female</td>\n",
       "      <td>81.0</td>\n",
       "      <td>0</td>\n",
       "      <td>0</td>\n",
       "      <td>Yes</td>\n",
       "      <td>Self-employed</td>\n",
       "      <td>Urban</td>\n",
       "      <td>125.20</td>\n",
       "      <td>40.0</td>\n",
       "      <td>never smoked</td>\n",
       "      <td>0</td>\n",
       "    </tr>\n",
       "    <tr>\n",
       "      <th>5107</th>\n",
       "      <td>19723</td>\n",
       "      <td>Female</td>\n",
       "      <td>35.0</td>\n",
       "      <td>0</td>\n",
       "      <td>0</td>\n",
       "      <td>Yes</td>\n",
       "      <td>Self-employed</td>\n",
       "      <td>Rural</td>\n",
       "      <td>82.99</td>\n",
       "      <td>30.6</td>\n",
       "      <td>never smoked</td>\n",
       "      <td>0</td>\n",
       "    </tr>\n",
       "    <tr>\n",
       "      <th>5108</th>\n",
       "      <td>37544</td>\n",
       "      <td>Male</td>\n",
       "      <td>51.0</td>\n",
       "      <td>0</td>\n",
       "      <td>0</td>\n",
       "      <td>Yes</td>\n",
       "      <td>Private</td>\n",
       "      <td>Rural</td>\n",
       "      <td>166.29</td>\n",
       "      <td>25.6</td>\n",
       "      <td>formerly smoked</td>\n",
       "      <td>0</td>\n",
       "    </tr>\n",
       "    <tr>\n",
       "      <th>5109</th>\n",
       "      <td>44679</td>\n",
       "      <td>Female</td>\n",
       "      <td>44.0</td>\n",
       "      <td>0</td>\n",
       "      <td>0</td>\n",
       "      <td>Yes</td>\n",
       "      <td>Govt_job</td>\n",
       "      <td>Urban</td>\n",
       "      <td>85.28</td>\n",
       "      <td>26.2</td>\n",
       "      <td>Unknown</td>\n",
       "      <td>0</td>\n",
       "    </tr>\n",
       "  </tbody>\n",
       "</table>\n",
       "<p>5110 rows × 12 columns</p>\n",
       "</div>"
      ],
      "text/plain": [
       "         id  gender   age  hypertension  heart_disease ever_married  \\\n",
       "0      9046    Male  67.0             0              1          Yes   \n",
       "1     51676  Female  61.0             0              0          Yes   \n",
       "2     31112    Male  80.0             0              1          Yes   \n",
       "3     60182  Female  49.0             0              0          Yes   \n",
       "4      1665  Female  79.0             1              0          Yes   \n",
       "...     ...     ...   ...           ...            ...          ...   \n",
       "5105  18234  Female  80.0             1              0          Yes   \n",
       "5106  44873  Female  81.0             0              0          Yes   \n",
       "5107  19723  Female  35.0             0              0          Yes   \n",
       "5108  37544    Male  51.0             0              0          Yes   \n",
       "5109  44679  Female  44.0             0              0          Yes   \n",
       "\n",
       "          work_type Residence_type  avg_glucose_level   bmi   smoking_status  \\\n",
       "0           Private          Urban             228.69  36.6  formerly smoked   \n",
       "1     Self-employed          Rural             202.21   NaN     never smoked   \n",
       "2           Private          Rural             105.92  32.5     never smoked   \n",
       "3           Private          Urban             171.23  34.4           smokes   \n",
       "4     Self-employed          Rural             174.12  24.0     never smoked   \n",
       "...             ...            ...                ...   ...              ...   \n",
       "5105        Private          Urban              83.75   NaN     never smoked   \n",
       "5106  Self-employed          Urban             125.20  40.0     never smoked   \n",
       "5107  Self-employed          Rural              82.99  30.6     never smoked   \n",
       "5108        Private          Rural             166.29  25.6  formerly smoked   \n",
       "5109       Govt_job          Urban              85.28  26.2          Unknown   \n",
       "\n",
       "      stroke  \n",
       "0          1  \n",
       "1          1  \n",
       "2          1  \n",
       "3          1  \n",
       "4          1  \n",
       "...      ...  \n",
       "5105       0  \n",
       "5106       0  \n",
       "5107       0  \n",
       "5108       0  \n",
       "5109       0  \n",
       "\n",
       "[5110 rows x 12 columns]"
      ]
     },
     "execution_count": 52,
     "metadata": {},
     "output_type": "execute_result"
    }
   ],
   "source": [
    "data"
   ]
  },
  {
   "cell_type": "code",
   "execution_count": 53,
   "id": "1dda4969",
   "metadata": {},
   "outputs": [
    {
     "name": "stdout",
     "output_type": "stream",
     "text": [
      "<class 'pandas.core.frame.DataFrame'>\n",
      "RangeIndex: 5110 entries, 0 to 5109\n",
      "Data columns (total 12 columns):\n",
      " #   Column             Non-Null Count  Dtype  \n",
      "---  ------             --------------  -----  \n",
      " 0   id                 5110 non-null   int64  \n",
      " 1   gender             5110 non-null   object \n",
      " 2   age                5110 non-null   float64\n",
      " 3   hypertension       5110 non-null   int64  \n",
      " 4   heart_disease      5110 non-null   int64  \n",
      " 5   ever_married       5110 non-null   object \n",
      " 6   work_type          5110 non-null   object \n",
      " 7   Residence_type     5110 non-null   object \n",
      " 8   avg_glucose_level  5110 non-null   float64\n",
      " 9   bmi                4909 non-null   float64\n",
      " 10  smoking_status     5110 non-null   object \n",
      " 11  stroke             5110 non-null   int64  \n",
      "dtypes: float64(3), int64(4), object(5)\n",
      "memory usage: 479.2+ KB\n"
     ]
    }
   ],
   "source": [
    "data.info()"
   ]
  },
  {
   "cell_type": "code",
   "execution_count": 54,
   "id": "fbbfa529",
   "metadata": {},
   "outputs": [],
   "source": [
    "mean_value = data['bmi'].mean()\n",
    "data['bmi'].fillna(value = mean_value, inplace = True) "
   ]
  },
  {
   "cell_type": "code",
   "execution_count": 55,
   "id": "eb808415",
   "metadata": {},
   "outputs": [],
   "source": [
    "data['age'] = (data['age'].apply(np.ceil)).astype('int64')"
   ]
  },
  {
   "cell_type": "code",
   "execution_count": 56,
   "id": "f651dbff",
   "metadata": {},
   "outputs": [],
   "source": [
    "data['gender'] = data['gender'].apply(lambda x : 1 if x == 'Male' else 0) "
   ]
  },
  {
   "cell_type": "code",
   "execution_count": 57,
   "id": "b8ed4490",
   "metadata": {},
   "outputs": [],
   "source": [
    "data.drop(data[data.smoking_status == 'Unknown'].index, inplace = True)"
   ]
  },
  {
   "cell_type": "code",
   "execution_count": 58,
   "id": "9529f06c",
   "metadata": {},
   "outputs": [],
   "source": [
    "from sklearn.preprocessing import LabelEncoder\n",
    "le = LabelEncoder() \n",
    "data['gender'] = data[['gender']].apply(le.fit_transform)\n",
    "data['ever_married'] = data[['ever_married']].apply(le.fit_transform)\n",
    "data ['Residence_type'] = data[['Residence_type']].apply(le.fit_transform)\n",
    "data['work_type'] = data[['work_type']].apply(le.fit_transform)\n",
    "data ['smoking_status'] = data[['smoking_status']].apply(le.fit_transform)"
   ]
  },
  {
   "cell_type": "code",
   "execution_count": 59,
   "id": "9a0fc3d5",
   "metadata": {},
   "outputs": [
    {
     "data": {
      "text/html": [
       "<div>\n",
       "<style scoped>\n",
       "    .dataframe tbody tr th:only-of-type {\n",
       "        vertical-align: middle;\n",
       "    }\n",
       "\n",
       "    .dataframe tbody tr th {\n",
       "        vertical-align: top;\n",
       "    }\n",
       "\n",
       "    .dataframe thead th {\n",
       "        text-align: right;\n",
       "    }\n",
       "</style>\n",
       "<table border=\"1\" class=\"dataframe\">\n",
       "  <thead>\n",
       "    <tr style=\"text-align: right;\">\n",
       "      <th></th>\n",
       "      <th>id</th>\n",
       "      <th>gender</th>\n",
       "      <th>age</th>\n",
       "      <th>hypertension</th>\n",
       "      <th>heart_disease</th>\n",
       "      <th>ever_married</th>\n",
       "      <th>work_type</th>\n",
       "      <th>Residence_type</th>\n",
       "      <th>avg_glucose_level</th>\n",
       "      <th>bmi</th>\n",
       "      <th>smoking_status</th>\n",
       "      <th>stroke</th>\n",
       "    </tr>\n",
       "  </thead>\n",
       "  <tbody>\n",
       "    <tr>\n",
       "      <th>0</th>\n",
       "      <td>9046</td>\n",
       "      <td>1</td>\n",
       "      <td>67</td>\n",
       "      <td>0</td>\n",
       "      <td>1</td>\n",
       "      <td>1</td>\n",
       "      <td>2</td>\n",
       "      <td>1</td>\n",
       "      <td>228.69</td>\n",
       "      <td>36.600000</td>\n",
       "      <td>0</td>\n",
       "      <td>1</td>\n",
       "    </tr>\n",
       "    <tr>\n",
       "      <th>1</th>\n",
       "      <td>51676</td>\n",
       "      <td>0</td>\n",
       "      <td>61</td>\n",
       "      <td>0</td>\n",
       "      <td>0</td>\n",
       "      <td>1</td>\n",
       "      <td>3</td>\n",
       "      <td>0</td>\n",
       "      <td>202.21</td>\n",
       "      <td>28.893237</td>\n",
       "      <td>1</td>\n",
       "      <td>1</td>\n",
       "    </tr>\n",
       "    <tr>\n",
       "      <th>2</th>\n",
       "      <td>31112</td>\n",
       "      <td>1</td>\n",
       "      <td>80</td>\n",
       "      <td>0</td>\n",
       "      <td>1</td>\n",
       "      <td>1</td>\n",
       "      <td>2</td>\n",
       "      <td>0</td>\n",
       "      <td>105.92</td>\n",
       "      <td>32.500000</td>\n",
       "      <td>1</td>\n",
       "      <td>1</td>\n",
       "    </tr>\n",
       "    <tr>\n",
       "      <th>3</th>\n",
       "      <td>60182</td>\n",
       "      <td>0</td>\n",
       "      <td>49</td>\n",
       "      <td>0</td>\n",
       "      <td>0</td>\n",
       "      <td>1</td>\n",
       "      <td>2</td>\n",
       "      <td>1</td>\n",
       "      <td>171.23</td>\n",
       "      <td>34.400000</td>\n",
       "      <td>2</td>\n",
       "      <td>1</td>\n",
       "    </tr>\n",
       "    <tr>\n",
       "      <th>4</th>\n",
       "      <td>1665</td>\n",
       "      <td>0</td>\n",
       "      <td>79</td>\n",
       "      <td>1</td>\n",
       "      <td>0</td>\n",
       "      <td>1</td>\n",
       "      <td>3</td>\n",
       "      <td>0</td>\n",
       "      <td>174.12</td>\n",
       "      <td>24.000000</td>\n",
       "      <td>1</td>\n",
       "      <td>1</td>\n",
       "    </tr>\n",
       "    <tr>\n",
       "      <th>...</th>\n",
       "      <td>...</td>\n",
       "      <td>...</td>\n",
       "      <td>...</td>\n",
       "      <td>...</td>\n",
       "      <td>...</td>\n",
       "      <td>...</td>\n",
       "      <td>...</td>\n",
       "      <td>...</td>\n",
       "      <td>...</td>\n",
       "      <td>...</td>\n",
       "      <td>...</td>\n",
       "      <td>...</td>\n",
       "    </tr>\n",
       "    <tr>\n",
       "      <th>5102</th>\n",
       "      <td>45010</td>\n",
       "      <td>0</td>\n",
       "      <td>57</td>\n",
       "      <td>0</td>\n",
       "      <td>0</td>\n",
       "      <td>1</td>\n",
       "      <td>2</td>\n",
       "      <td>0</td>\n",
       "      <td>77.93</td>\n",
       "      <td>21.700000</td>\n",
       "      <td>1</td>\n",
       "      <td>0</td>\n",
       "    </tr>\n",
       "    <tr>\n",
       "      <th>5105</th>\n",
       "      <td>18234</td>\n",
       "      <td>0</td>\n",
       "      <td>80</td>\n",
       "      <td>1</td>\n",
       "      <td>0</td>\n",
       "      <td>1</td>\n",
       "      <td>2</td>\n",
       "      <td>1</td>\n",
       "      <td>83.75</td>\n",
       "      <td>28.893237</td>\n",
       "      <td>1</td>\n",
       "      <td>0</td>\n",
       "    </tr>\n",
       "    <tr>\n",
       "      <th>5106</th>\n",
       "      <td>44873</td>\n",
       "      <td>0</td>\n",
       "      <td>81</td>\n",
       "      <td>0</td>\n",
       "      <td>0</td>\n",
       "      <td>1</td>\n",
       "      <td>3</td>\n",
       "      <td>1</td>\n",
       "      <td>125.20</td>\n",
       "      <td>40.000000</td>\n",
       "      <td>1</td>\n",
       "      <td>0</td>\n",
       "    </tr>\n",
       "    <tr>\n",
       "      <th>5107</th>\n",
       "      <td>19723</td>\n",
       "      <td>0</td>\n",
       "      <td>35</td>\n",
       "      <td>0</td>\n",
       "      <td>0</td>\n",
       "      <td>1</td>\n",
       "      <td>3</td>\n",
       "      <td>0</td>\n",
       "      <td>82.99</td>\n",
       "      <td>30.600000</td>\n",
       "      <td>1</td>\n",
       "      <td>0</td>\n",
       "    </tr>\n",
       "    <tr>\n",
       "      <th>5108</th>\n",
       "      <td>37544</td>\n",
       "      <td>1</td>\n",
       "      <td>51</td>\n",
       "      <td>0</td>\n",
       "      <td>0</td>\n",
       "      <td>1</td>\n",
       "      <td>2</td>\n",
       "      <td>0</td>\n",
       "      <td>166.29</td>\n",
       "      <td>25.600000</td>\n",
       "      <td>0</td>\n",
       "      <td>0</td>\n",
       "    </tr>\n",
       "  </tbody>\n",
       "</table>\n",
       "<p>3566 rows × 12 columns</p>\n",
       "</div>"
      ],
      "text/plain": [
       "         id  gender  age  hypertension  heart_disease  ever_married  \\\n",
       "0      9046       1   67             0              1             1   \n",
       "1     51676       0   61             0              0             1   \n",
       "2     31112       1   80             0              1             1   \n",
       "3     60182       0   49             0              0             1   \n",
       "4      1665       0   79             1              0             1   \n",
       "...     ...     ...  ...           ...            ...           ...   \n",
       "5102  45010       0   57             0              0             1   \n",
       "5105  18234       0   80             1              0             1   \n",
       "5106  44873       0   81             0              0             1   \n",
       "5107  19723       0   35             0              0             1   \n",
       "5108  37544       1   51             0              0             1   \n",
       "\n",
       "      work_type  Residence_type  avg_glucose_level        bmi  smoking_status  \\\n",
       "0             2               1             228.69  36.600000               0   \n",
       "1             3               0             202.21  28.893237               1   \n",
       "2             2               0             105.92  32.500000               1   \n",
       "3             2               1             171.23  34.400000               2   \n",
       "4             3               0             174.12  24.000000               1   \n",
       "...         ...             ...                ...        ...             ...   \n",
       "5102          2               0              77.93  21.700000               1   \n",
       "5105          2               1              83.75  28.893237               1   \n",
       "5106          3               1             125.20  40.000000               1   \n",
       "5107          3               0              82.99  30.600000               1   \n",
       "5108          2               0             166.29  25.600000               0   \n",
       "\n",
       "      stroke  \n",
       "0          1  \n",
       "1          1  \n",
       "2          1  \n",
       "3          1  \n",
       "4          1  \n",
       "...      ...  \n",
       "5102       0  \n",
       "5105       0  \n",
       "5106       0  \n",
       "5107       0  \n",
       "5108       0  \n",
       "\n",
       "[3566 rows x 12 columns]"
      ]
     },
     "execution_count": 59,
     "metadata": {},
     "output_type": "execute_result"
    }
   ],
   "source": [
    "data"
   ]
  },
  {
   "cell_type": "code",
   "execution_count": 60,
   "id": "c5cbaea9",
   "metadata": {},
   "outputs": [
    {
     "name": "stdout",
     "output_type": "stream",
     "text": [
      "69\n"
     ]
    },
    {
     "data": {
      "text/html": [
       "<div>\n",
       "<style scoped>\n",
       "    .dataframe tbody tr th:only-of-type {\n",
       "        vertical-align: middle;\n",
       "    }\n",
       "\n",
       "    .dataframe tbody tr th {\n",
       "        vertical-align: top;\n",
       "    }\n",
       "\n",
       "    .dataframe thead th {\n",
       "        text-align: right;\n",
       "    }\n",
       "</style>\n",
       "<table border=\"1\" class=\"dataframe\">\n",
       "  <thead>\n",
       "    <tr style=\"text-align: right;\">\n",
       "      <th></th>\n",
       "      <th>id</th>\n",
       "      <th>gender</th>\n",
       "      <th>age</th>\n",
       "      <th>hypertension</th>\n",
       "      <th>heart_disease</th>\n",
       "      <th>ever_married</th>\n",
       "      <th>work_type</th>\n",
       "      <th>Residence_type</th>\n",
       "      <th>avg_glucose_level</th>\n",
       "      <th>bmi</th>\n",
       "      <th>smoking_status</th>\n",
       "      <th>stroke</th>\n",
       "    </tr>\n",
       "  </thead>\n",
       "  <tbody>\n",
       "    <tr>\n",
       "      <th>count</th>\n",
       "      <td>69.000000</td>\n",
       "      <td>69.000000</td>\n",
       "      <td>69.000000</td>\n",
       "      <td>69.0</td>\n",
       "      <td>69.0</td>\n",
       "      <td>69.0</td>\n",
       "      <td>69.0</td>\n",
       "      <td>69.000000</td>\n",
       "      <td>69.000000</td>\n",
       "      <td>69.000000</td>\n",
       "      <td>69.000000</td>\n",
       "      <td>69.0</td>\n",
       "    </tr>\n",
       "    <tr>\n",
       "      <th>mean</th>\n",
       "      <td>39029.478261</td>\n",
       "      <td>0.507246</td>\n",
       "      <td>12.347826</td>\n",
       "      <td>0.0</td>\n",
       "      <td>0.0</td>\n",
       "      <td>0.0</td>\n",
       "      <td>4.0</td>\n",
       "      <td>0.521739</td>\n",
       "      <td>101.737391</td>\n",
       "      <td>23.111496</td>\n",
       "      <td>0.840580</td>\n",
       "      <td>0.0</td>\n",
       "    </tr>\n",
       "    <tr>\n",
       "      <th>std</th>\n",
       "      <td>19473.985582</td>\n",
       "      <td>0.503610</td>\n",
       "      <td>1.634428</td>\n",
       "      <td>0.0</td>\n",
       "      <td>0.0</td>\n",
       "      <td>0.0</td>\n",
       "      <td>0.0</td>\n",
       "      <td>0.503187</td>\n",
       "      <td>34.917983</td>\n",
       "      <td>5.737176</td>\n",
       "      <td>0.441361</td>\n",
       "      <td>0.0</td>\n",
       "    </tr>\n",
       "    <tr>\n",
       "      <th>min</th>\n",
       "      <td>4833.000000</td>\n",
       "      <td>0.000000</td>\n",
       "      <td>10.000000</td>\n",
       "      <td>0.0</td>\n",
       "      <td>0.0</td>\n",
       "      <td>0.0</td>\n",
       "      <td>4.0</td>\n",
       "      <td>0.000000</td>\n",
       "      <td>57.280000</td>\n",
       "      <td>15.300000</td>\n",
       "      <td>0.000000</td>\n",
       "      <td>0.0</td>\n",
       "    </tr>\n",
       "    <tr>\n",
       "      <th>25%</th>\n",
       "      <td>21209.000000</td>\n",
       "      <td>0.000000</td>\n",
       "      <td>11.000000</td>\n",
       "      <td>0.0</td>\n",
       "      <td>0.0</td>\n",
       "      <td>0.0</td>\n",
       "      <td>4.0</td>\n",
       "      <td>0.000000</td>\n",
       "      <td>81.310000</td>\n",
       "      <td>18.800000</td>\n",
       "      <td>1.000000</td>\n",
       "      <td>0.0</td>\n",
       "    </tr>\n",
       "    <tr>\n",
       "      <th>50%</th>\n",
       "      <td>40390.000000</td>\n",
       "      <td>1.000000</td>\n",
       "      <td>12.000000</td>\n",
       "      <td>0.0</td>\n",
       "      <td>0.0</td>\n",
       "      <td>0.0</td>\n",
       "      <td>4.0</td>\n",
       "      <td>1.000000</td>\n",
       "      <td>92.650000</td>\n",
       "      <td>21.600000</td>\n",
       "      <td>1.000000</td>\n",
       "      <td>0.0</td>\n",
       "    </tr>\n",
       "    <tr>\n",
       "      <th>75%</th>\n",
       "      <td>54253.000000</td>\n",
       "      <td>1.000000</td>\n",
       "      <td>13.000000</td>\n",
       "      <td>0.0</td>\n",
       "      <td>0.0</td>\n",
       "      <td>0.0</td>\n",
       "      <td>4.0</td>\n",
       "      <td>1.000000</td>\n",
       "      <td>116.250000</td>\n",
       "      <td>25.300000</td>\n",
       "      <td>1.000000</td>\n",
       "      <td>0.0</td>\n",
       "    </tr>\n",
       "    <tr>\n",
       "      <th>max</th>\n",
       "      <td>71917.000000</td>\n",
       "      <td>1.000000</td>\n",
       "      <td>16.000000</td>\n",
       "      <td>0.0</td>\n",
       "      <td>0.0</td>\n",
       "      <td>0.0</td>\n",
       "      <td>4.0</td>\n",
       "      <td>1.000000</td>\n",
       "      <td>213.870000</td>\n",
       "      <td>41.700000</td>\n",
       "      <td>2.000000</td>\n",
       "      <td>0.0</td>\n",
       "    </tr>\n",
       "  </tbody>\n",
       "</table>\n",
       "</div>"
      ],
      "text/plain": [
       "                 id     gender        age  hypertension  heart_disease  \\\n",
       "count     69.000000  69.000000  69.000000          69.0           69.0   \n",
       "mean   39029.478261   0.507246  12.347826           0.0            0.0   \n",
       "std    19473.985582   0.503610   1.634428           0.0            0.0   \n",
       "min     4833.000000   0.000000  10.000000           0.0            0.0   \n",
       "25%    21209.000000   0.000000  11.000000           0.0            0.0   \n",
       "50%    40390.000000   1.000000  12.000000           0.0            0.0   \n",
       "75%    54253.000000   1.000000  13.000000           0.0            0.0   \n",
       "max    71917.000000   1.000000  16.000000           0.0            0.0   \n",
       "\n",
       "       ever_married  work_type  Residence_type  avg_glucose_level        bmi  \\\n",
       "count          69.0       69.0       69.000000          69.000000  69.000000   \n",
       "mean            0.0        4.0        0.521739         101.737391  23.111496   \n",
       "std             0.0        0.0        0.503187          34.917983   5.737176   \n",
       "min             0.0        4.0        0.000000          57.280000  15.300000   \n",
       "25%             0.0        4.0        0.000000          81.310000  18.800000   \n",
       "50%             0.0        4.0        1.000000          92.650000  21.600000   \n",
       "75%             0.0        4.0        1.000000         116.250000  25.300000   \n",
       "max             0.0        4.0        1.000000         213.870000  41.700000   \n",
       "\n",
       "       smoking_status  stroke  \n",
       "count       69.000000    69.0  \n",
       "mean         0.840580     0.0  \n",
       "std          0.441361     0.0  \n",
       "min          0.000000     0.0  \n",
       "25%          1.000000     0.0  \n",
       "50%          1.000000     0.0  \n",
       "75%          1.000000     0.0  \n",
       "max          2.000000     0.0  "
      ]
     },
     "execution_count": 60,
     "metadata": {},
     "output_type": "execute_result"
    }
   ],
   "source": [
    "#Extract the data containing children information\n",
    "nos_of_children = data[data['work_type'] == 4]\n",
    "nos_of_children_count = nos_of_children['work_type'].count()\n",
    "print (nos_of_children_count)\n",
    "\n",
    "nos_of_children.describe()\n",
    "#There are 69 children in total in the dataset, in age range 10-16."
   ]
  },
  {
   "cell_type": "code",
   "execution_count": 61,
   "id": "0cab071c",
   "metadata": {},
   "outputs": [],
   "source": [
    "data.drop(data[data.work_type == 4].index, inplace = True) #delete the records"
   ]
  },
  {
   "cell_type": "code",
   "execution_count": null,
   "id": "ae728ef7",
   "metadata": {},
   "outputs": [],
   "source": []
  },
  {
   "cell_type": "code",
   "execution_count": 62,
   "id": "c03e8221",
   "metadata": {},
   "outputs": [
    {
     "name": "stdout",
     "output_type": "stream",
     "text": [
      "number with stroke:  202\n",
      "number without stroke:  3295\n"
     ]
    },
    {
     "data": {
      "image/png": "[encoded data removed]",
      "text/plain": [
       "<Figure size 432x288 with 1 Axes>"
      ]
     },
     "metadata": {
      "needs_background": "light"
     },
     "output_type": "display_data"
    }
   ],
   "source": [
    "#split the data into those with stroke and without stroke\n",
    "no_stroke = data[data['stroke'] == 0] #extract the information of those without stroke\n",
    "no_stroke_extract = no_stroke['stroke'] #extract one column \n",
    "\n",
    "yes_stroke = data[data['stroke'] == 1] #extract the information of those with stroke\n",
    "yes_stroke_extract = yes_stroke['stroke'] #extract one column\n",
    "\n",
    "count = [yes_stroke_extract.count(), no_stroke_extract.count()]\n",
    "labels = ('stoke', 'no stroke')\n",
    "\n",
    "plt.bar(labels, count)\n",
    "print (\"number with stroke: \",yes_stroke_extract.count())\n",
    "print (\"number without stroke: \",no_stroke_extract.count())"
   ]
  },
  {
   "cell_type": "code",
   "execution_count": 63,
   "id": "1a7f0524",
   "metadata": {},
   "outputs": [],
   "source": [
    "#undersampling\n",
    "class_no_stroke_extract = no_stroke.sample(800) \n",
    "sampled_data = pd.concat([class_no_stroke_extract, yes_stroke], axis=0)\n",
    "\n",
    "#shuffle the data\n",
    "sampled_data = sampled_data.sample(frac = 1)"
   ]
  },
  {
   "cell_type": "code",
   "execution_count": 64,
   "id": "8ac77ee1",
   "metadata": {},
   "outputs": [
    {
     "data": {
      "image/png": "[encoded data removed]",
      "text/plain": [
       "<Figure size 432x288 with 1 Axes>"
      ]
     },
     "metadata": {
      "needs_background": "light"
     },
     "output_type": "display_data"
    }
   ],
   "source": [
    "# visualize the output\n",
    "g = sns.countplot(sampled_data['stroke'])\n",
    "g.set_xticklabels(['no stroke','stroke'])\n",
    "plt.show()"
   ]
  },
  {
   "cell_type": "code",
   "execution_count": 65,
   "id": "a346d08d",
   "metadata": {},
   "outputs": [],
   "source": [
    "#The selected features based on the feature analysis and visualizations\n",
    "X = sampled_data[['age','bmi', 'avg_glucose_level']] \n",
    "Y = sampled_data['stroke']"
   ]
  },
  {
   "cell_type": "code",
   "execution_count": 66,
   "id": "32219f12",
   "metadata": {},
   "outputs": [],
   "source": [
    "from sklearn.preprocessing import StandardScaler\n",
    "scaler = StandardScaler()\n",
    "scaler.fit(X)\n",
    "X_scaled = scaler.transform(X)"
   ]
  },
  {
   "cell_type": "code",
   "execution_count": 67,
   "id": "e1e484c8",
   "metadata": {},
   "outputs": [
    {
     "data": {
      "text/html": [
       "<div>\n",
       "<style scoped>\n",
       "    .dataframe tbody tr th:only-of-type {\n",
       "        vertical-align: middle;\n",
       "    }\n",
       "\n",
       "    .dataframe tbody tr th {\n",
       "        vertical-align: top;\n",
       "    }\n",
       "\n",
       "    .dataframe thead th {\n",
       "        text-align: right;\n",
       "    }\n",
       "</style>\n",
       "<table border=\"1\" class=\"dataframe\">\n",
       "  <thead>\n",
       "    <tr style=\"text-align: right;\">\n",
       "      <th></th>\n",
       "      <th>id</th>\n",
       "      <th>gender</th>\n",
       "      <th>age</th>\n",
       "      <th>hypertension</th>\n",
       "      <th>heart_disease</th>\n",
       "      <th>ever_married</th>\n",
       "      <th>work_type</th>\n",
       "      <th>Residence_type</th>\n",
       "      <th>avg_glucose_level</th>\n",
       "      <th>bmi</th>\n",
       "      <th>smoking_status</th>\n",
       "      <th>stroke</th>\n",
       "    </tr>\n",
       "  </thead>\n",
       "  <tbody>\n",
       "    <tr>\n",
       "      <th>0</th>\n",
       "      <td>9046</td>\n",
       "      <td>1</td>\n",
       "      <td>67</td>\n",
       "      <td>0</td>\n",
       "      <td>1</td>\n",
       "      <td>1</td>\n",
       "      <td>2</td>\n",
       "      <td>1</td>\n",
       "      <td>228.69</td>\n",
       "      <td>36.600000</td>\n",
       "      <td>0</td>\n",
       "      <td>1</td>\n",
       "    </tr>\n",
       "    <tr>\n",
       "      <th>1</th>\n",
       "      <td>51676</td>\n",
       "      <td>0</td>\n",
       "      <td>61</td>\n",
       "      <td>0</td>\n",
       "      <td>0</td>\n",
       "      <td>1</td>\n",
       "      <td>3</td>\n",
       "      <td>0</td>\n",
       "      <td>202.21</td>\n",
       "      <td>28.893237</td>\n",
       "      <td>1</td>\n",
       "      <td>1</td>\n",
       "    </tr>\n",
       "    <tr>\n",
       "      <th>2</th>\n",
       "      <td>31112</td>\n",
       "      <td>1</td>\n",
       "      <td>80</td>\n",
       "      <td>0</td>\n",
       "      <td>1</td>\n",
       "      <td>1</td>\n",
       "      <td>2</td>\n",
       "      <td>0</td>\n",
       "      <td>105.92</td>\n",
       "      <td>32.500000</td>\n",
       "      <td>1</td>\n",
       "      <td>1</td>\n",
       "    </tr>\n",
       "    <tr>\n",
       "      <th>3</th>\n",
       "      <td>60182</td>\n",
       "      <td>0</td>\n",
       "      <td>49</td>\n",
       "      <td>0</td>\n",
       "      <td>0</td>\n",
       "      <td>1</td>\n",
       "      <td>2</td>\n",
       "      <td>1</td>\n",
       "      <td>171.23</td>\n",
       "      <td>34.400000</td>\n",
       "      <td>2</td>\n",
       "      <td>1</td>\n",
       "    </tr>\n",
       "    <tr>\n",
       "      <th>4</th>\n",
       "      <td>1665</td>\n",
       "      <td>0</td>\n",
       "      <td>79</td>\n",
       "      <td>1</td>\n",
       "      <td>0</td>\n",
       "      <td>1</td>\n",
       "      <td>3</td>\n",
       "      <td>0</td>\n",
       "      <td>174.12</td>\n",
       "      <td>24.000000</td>\n",
       "      <td>1</td>\n",
       "      <td>1</td>\n",
       "    </tr>\n",
       "    <tr>\n",
       "      <th>...</th>\n",
       "      <td>...</td>\n",
       "      <td>...</td>\n",
       "      <td>...</td>\n",
       "      <td>...</td>\n",
       "      <td>...</td>\n",
       "      <td>...</td>\n",
       "      <td>...</td>\n",
       "      <td>...</td>\n",
       "      <td>...</td>\n",
       "      <td>...</td>\n",
       "      <td>...</td>\n",
       "      <td>...</td>\n",
       "    </tr>\n",
       "    <tr>\n",
       "      <th>5102</th>\n",
       "      <td>45010</td>\n",
       "      <td>0</td>\n",
       "      <td>57</td>\n",
       "      <td>0</td>\n",
       "      <td>0</td>\n",
       "      <td>1</td>\n",
       "      <td>2</td>\n",
       "      <td>0</td>\n",
       "      <td>77.93</td>\n",
       "      <td>21.700000</td>\n",
       "      <td>1</td>\n",
       "      <td>0</td>\n",
       "    </tr>\n",
       "    <tr>\n",
       "      <th>5105</th>\n",
       "      <td>18234</td>\n",
       "      <td>0</td>\n",
       "      <td>80</td>\n",
       "      <td>1</td>\n",
       "      <td>0</td>\n",
       "      <td>1</td>\n",
       "      <td>2</td>\n",
       "      <td>1</td>\n",
       "      <td>83.75</td>\n",
       "      <td>28.893237</td>\n",
       "      <td>1</td>\n",
       "      <td>0</td>\n",
       "    </tr>\n",
       "    <tr>\n",
       "      <th>5106</th>\n",
       "      <td>44873</td>\n",
       "      <td>0</td>\n",
       "      <td>81</td>\n",
       "      <td>0</td>\n",
       "      <td>0</td>\n",
       "      <td>1</td>\n",
       "      <td>3</td>\n",
       "      <td>1</td>\n",
       "      <td>125.20</td>\n",
       "      <td>40.000000</td>\n",
       "      <td>1</td>\n",
       "      <td>0</td>\n",
       "    </tr>\n",
       "    <tr>\n",
       "      <th>5107</th>\n",
       "      <td>19723</td>\n",
       "      <td>0</td>\n",
       "      <td>35</td>\n",
       "      <td>0</td>\n",
       "      <td>0</td>\n",
       "      <td>1</td>\n",
       "      <td>3</td>\n",
       "      <td>0</td>\n",
       "      <td>82.99</td>\n",
       "      <td>30.600000</td>\n",
       "      <td>1</td>\n",
       "      <td>0</td>\n",
       "    </tr>\n",
       "    <tr>\n",
       "      <th>5108</th>\n",
       "      <td>37544</td>\n",
       "      <td>1</td>\n",
       "      <td>51</td>\n",
       "      <td>0</td>\n",
       "      <td>0</td>\n",
       "      <td>1</td>\n",
       "      <td>2</td>\n",
       "      <td>0</td>\n",
       "      <td>166.29</td>\n",
       "      <td>25.600000</td>\n",
       "      <td>0</td>\n",
       "      <td>0</td>\n",
       "    </tr>\n",
       "  </tbody>\n",
       "</table>\n",
       "<p>3497 rows × 12 columns</p>\n",
       "</div>"
      ],
      "text/plain": [
       "         id  gender  age  hypertension  heart_disease  ever_married  \\\n",
       "0      9046       1   67             0              1             1   \n",
       "1     51676       0   61             0              0             1   \n",
       "2     31112       1   80             0              1             1   \n",
       "3     60182       0   49             0              0             1   \n",
       "4      1665       0   79             1              0             1   \n",
       "...     ...     ...  ...           ...            ...           ...   \n",
       "5102  45010       0   57             0              0             1   \n",
       "5105  18234       0   80             1              0             1   \n",
       "5106  44873       0   81             0              0             1   \n",
       "5107  19723       0   35             0              0             1   \n",
       "5108  37544       1   51             0              0             1   \n",
       "\n",
       "      work_type  Residence_type  avg_glucose_level        bmi  smoking_status  \\\n",
       "0             2               1             228.69  36.600000               0   \n",
       "1             3               0             202.21  28.893237               1   \n",
       "2             2               0             105.92  32.500000               1   \n",
       "3             2               1             171.23  34.400000               2   \n",
       "4             3               0             174.12  24.000000               1   \n",
       "...         ...             ...                ...        ...             ...   \n",
       "5102          2               0              77.93  21.700000               1   \n",
       "5105          2               1              83.75  28.893237               1   \n",
       "5106          3               1             125.20  40.000000               1   \n",
       "5107          3               0              82.99  30.600000               1   \n",
       "5108          2               0             166.29  25.600000               0   \n",
       "\n",
       "      stroke  \n",
       "0          1  \n",
       "1          1  \n",
       "2          1  \n",
       "3          1  \n",
       "4          1  \n",
       "...      ...  \n",
       "5102       0  \n",
       "5105       0  \n",
       "5106       0  \n",
       "5107       0  \n",
       "5108       0  \n",
       "\n",
       "[3497 rows x 12 columns]"
      ]
     },
     "execution_count": 67,
     "metadata": {},
     "output_type": "execute_result"
    }
   ],
   "source": [
    "data"
   ]
  },
  {
   "cell_type": "code",
   "execution_count": 68,
   "id": "c31fe557",
   "metadata": {},
   "outputs": [
    {
     "data": {
      "text/html": [
       "<div>\n",
       "<style scoped>\n",
       "    .dataframe tbody tr th:only-of-type {\n",
       "        vertical-align: middle;\n",
       "    }\n",
       "\n",
       "    .dataframe tbody tr th {\n",
       "        vertical-align: top;\n",
       "    }\n",
       "\n",
       "    .dataframe thead th {\n",
       "        text-align: right;\n",
       "    }\n",
       "</style>\n",
       "<table border=\"1\" class=\"dataframe\">\n",
       "  <thead>\n",
       "    <tr style=\"text-align: right;\">\n",
       "      <th></th>\n",
       "      <th>id</th>\n",
       "      <th>gender</th>\n",
       "      <th>age</th>\n",
       "      <th>hypertension</th>\n",
       "      <th>heart_disease</th>\n",
       "      <th>ever_married</th>\n",
       "      <th>work_type</th>\n",
       "      <th>Residence_type</th>\n",
       "      <th>avg_glucose_level</th>\n",
       "      <th>bmi</th>\n",
       "      <th>smoking_status</th>\n",
       "      <th>stroke</th>\n",
       "    </tr>\n",
       "  </thead>\n",
       "  <tbody>\n",
       "    <tr>\n",
       "      <th>count</th>\n",
       "      <td>3497.000000</td>\n",
       "      <td>3497.000000</td>\n",
       "      <td>3497.000000</td>\n",
       "      <td>3497.000000</td>\n",
       "      <td>3497.000000</td>\n",
       "      <td>3497.000000</td>\n",
       "      <td>3497.000000</td>\n",
       "      <td>3497.000000</td>\n",
       "      <td>3497.000000</td>\n",
       "      <td>3497.000000</td>\n",
       "      <td>3497.000000</td>\n",
       "      <td>3497.000000</td>\n",
       "    </tr>\n",
       "    <tr>\n",
       "      <th>mean</th>\n",
       "      <td>36741.479268</td>\n",
       "      <td>0.392336</td>\n",
       "      <td>49.574206</td>\n",
       "      <td>0.127538</td>\n",
       "      <td>0.065199</td>\n",
       "      <td>0.774950</td>\n",
       "      <td>1.879611</td>\n",
       "      <td>0.508436</td>\n",
       "      <td>109.124956</td>\n",
       "      <td>30.375768</td>\n",
       "      <td>0.975693</td>\n",
       "      <td>0.057764</td>\n",
       "    </tr>\n",
       "    <tr>\n",
       "      <th>std</th>\n",
       "      <td>21273.548046</td>\n",
       "      <td>0.488341</td>\n",
       "      <td>18.341184</td>\n",
       "      <td>0.333622</td>\n",
       "      <td>0.246912</td>\n",
       "      <td>0.417675</td>\n",
       "      <td>0.889539</td>\n",
       "      <td>0.500000</td>\n",
       "      <td>48.511792</td>\n",
       "      <td>7.110797</td>\n",
       "      <td>0.688441</td>\n",
       "      <td>0.233330</td>\n",
       "    </tr>\n",
       "    <tr>\n",
       "      <th>min</th>\n",
       "      <td>67.000000</td>\n",
       "      <td>0.000000</td>\n",
       "      <td>13.000000</td>\n",
       "      <td>0.000000</td>\n",
       "      <td>0.000000</td>\n",
       "      <td>0.000000</td>\n",
       "      <td>0.000000</td>\n",
       "      <td>0.000000</td>\n",
       "      <td>55.120000</td>\n",
       "      <td>11.500000</td>\n",
       "      <td>0.000000</td>\n",
       "      <td>0.000000</td>\n",
       "    </tr>\n",
       "    <tr>\n",
       "      <th>25%</th>\n",
       "      <td>18032.000000</td>\n",
       "      <td>0.000000</td>\n",
       "      <td>35.000000</td>\n",
       "      <td>0.000000</td>\n",
       "      <td>0.000000</td>\n",
       "      <td>1.000000</td>\n",
       "      <td>2.000000</td>\n",
       "      <td>0.000000</td>\n",
       "      <td>77.450000</td>\n",
       "      <td>25.600000</td>\n",
       "      <td>1.000000</td>\n",
       "      <td>0.000000</td>\n",
       "    </tr>\n",
       "    <tr>\n",
       "      <th>50%</th>\n",
       "      <td>37307.000000</td>\n",
       "      <td>0.000000</td>\n",
       "      <td>50.000000</td>\n",
       "      <td>0.000000</td>\n",
       "      <td>0.000000</td>\n",
       "      <td>1.000000</td>\n",
       "      <td>2.000000</td>\n",
       "      <td>1.000000</td>\n",
       "      <td>92.640000</td>\n",
       "      <td>28.900000</td>\n",
       "      <td>1.000000</td>\n",
       "      <td>0.000000</td>\n",
       "    </tr>\n",
       "    <tr>\n",
       "      <th>75%</th>\n",
       "      <td>55137.000000</td>\n",
       "      <td>1.000000</td>\n",
       "      <td>64.000000</td>\n",
       "      <td>0.000000</td>\n",
       "      <td>0.000000</td>\n",
       "      <td>1.000000</td>\n",
       "      <td>2.000000</td>\n",
       "      <td>1.000000</td>\n",
       "      <td>116.690000</td>\n",
       "      <td>33.900000</td>\n",
       "      <td>1.000000</td>\n",
       "      <td>0.000000</td>\n",
       "    </tr>\n",
       "    <tr>\n",
       "      <th>max</th>\n",
       "      <td>72915.000000</td>\n",
       "      <td>1.000000</td>\n",
       "      <td>82.000000</td>\n",
       "      <td>1.000000</td>\n",
       "      <td>1.000000</td>\n",
       "      <td>1.000000</td>\n",
       "      <td>3.000000</td>\n",
       "      <td>1.000000</td>\n",
       "      <td>271.740000</td>\n",
       "      <td>92.000000</td>\n",
       "      <td>2.000000</td>\n",
       "      <td>1.000000</td>\n",
       "    </tr>\n",
       "  </tbody>\n",
       "</table>\n",
       "</div>"
      ],
      "text/plain": [
       "                 id       gender          age  hypertension  heart_disease  \\\n",
       "count   3497.000000  3497.000000  3497.000000   3497.000000    3497.000000   \n",
       "mean   36741.479268     0.392336    49.574206      0.127538       0.065199   \n",
       "std    21273.548046     0.488341    18.341184      0.333622       0.246912   \n",
       "min       67.000000     0.000000    13.000000      0.000000       0.000000   \n",
       "25%    18032.000000     0.000000    35.000000      0.000000       0.000000   \n",
       "50%    37307.000000     0.000000    50.000000      0.000000       0.000000   \n",
       "75%    55137.000000     1.000000    64.000000      0.000000       0.000000   \n",
       "max    72915.000000     1.000000    82.000000      1.000000       1.000000   \n",
       "\n",
       "       ever_married    work_type  Residence_type  avg_glucose_level  \\\n",
       "count   3497.000000  3497.000000     3497.000000        3497.000000   \n",
       "mean       0.774950     1.879611        0.508436         109.124956   \n",
       "std        0.417675     0.889539        0.500000          48.511792   \n",
       "min        0.000000     0.000000        0.000000          55.120000   \n",
       "25%        1.000000     2.000000        0.000000          77.450000   \n",
       "50%        1.000000     2.000000        1.000000          92.640000   \n",
       "75%        1.000000     2.000000        1.000000         116.690000   \n",
       "max        1.000000     3.000000        1.000000         271.740000   \n",
       "\n",
       "               bmi  smoking_status       stroke  \n",
       "count  3497.000000     3497.000000  3497.000000  \n",
       "mean     30.375768        0.975693     0.057764  \n",
       "std       7.110797        0.688441     0.233330  \n",
       "min      11.500000        0.000000     0.000000  \n",
       "25%      25.600000        1.000000     0.000000  \n",
       "50%      28.900000        1.000000     0.000000  \n",
       "75%      33.900000        1.000000     0.000000  \n",
       "max      92.000000        2.000000     1.000000  "
      ]
     },
     "execution_count": 68,
     "metadata": {},
     "output_type": "execute_result"
    }
   ],
   "source": [
    "data.describe()"
   ]
  },
  {
   "cell_type": "code",
   "execution_count": 69,
   "id": "faf5fee0",
   "metadata": {},
   "outputs": [
    {
     "data": {
      "text/plain": [
       "array([[-1.53782521, -0.12247087, -0.06174994],\n",
       "       [ 0.63016756, -0.73192835, -0.62062214],\n",
       "       [ 1.49736466, -0.88783608, -0.89489972],\n",
       "       ...,\n",
       "       [-1.37522575, -0.57602062, -0.23091049],\n",
       "       [-1.37522575,  1.13896437, -0.81547796],\n",
       "       [-1.42942557, -1.14295781,  0.56116578]])"
      ]
     },
     "execution_count": 69,
     "metadata": {},
     "output_type": "execute_result"
    }
   ],
   "source": [
    "X_scaled"
   ]
  },
  {
   "cell_type": "code",
   "execution_count": 70,
   "id": "47ad2930",
   "metadata": {},
   "outputs": [
    {
     "data": {
      "text/html": [
       "<div>\n",
       "<style scoped>\n",
       "    .dataframe tbody tr th:only-of-type {\n",
       "        vertical-align: middle;\n",
       "    }\n",
       "\n",
       "    .dataframe tbody tr th {\n",
       "        vertical-align: top;\n",
       "    }\n",
       "\n",
       "    .dataframe thead th {\n",
       "        text-align: right;\n",
       "    }\n",
       "</style>\n",
       "<table border=\"1\" class=\"dataframe\">\n",
       "  <thead>\n",
       "    <tr style=\"text-align: right;\">\n",
       "      <th></th>\n",
       "      <th>age</th>\n",
       "      <th>bmi</th>\n",
       "      <th>avg_glucose_level</th>\n",
       "    </tr>\n",
       "  </thead>\n",
       "  <tbody>\n",
       "    <tr>\n",
       "      <th>count</th>\n",
       "      <td>1002.000000</td>\n",
       "      <td>1002.000000</td>\n",
       "      <td>1002.000000</td>\n",
       "    </tr>\n",
       "    <tr>\n",
       "      <th>mean</th>\n",
       "      <td>52.373253</td>\n",
       "      <td>30.464088</td>\n",
       "      <td>114.502176</td>\n",
       "    </tr>\n",
       "    <tr>\n",
       "      <th>std</th>\n",
       "      <td>18.459460</td>\n",
       "      <td>7.058979</td>\n",
       "      <td>51.396969</td>\n",
       "    </tr>\n",
       "    <tr>\n",
       "      <th>min</th>\n",
       "      <td>13.000000</td>\n",
       "      <td>15.700000</td>\n",
       "      <td>55.250000</td>\n",
       "    </tr>\n",
       "    <tr>\n",
       "      <th>25%</th>\n",
       "      <td>39.000000</td>\n",
       "      <td>25.600000</td>\n",
       "      <td>78.965000</td>\n",
       "    </tr>\n",
       "    <tr>\n",
       "      <th>50%</th>\n",
       "      <td>53.000000</td>\n",
       "      <td>28.900000</td>\n",
       "      <td>96.140000</td>\n",
       "    </tr>\n",
       "    <tr>\n",
       "      <th>75%</th>\n",
       "      <td>68.000000</td>\n",
       "      <td>34.300000</td>\n",
       "      <td>127.112500</td>\n",
       "    </tr>\n",
       "    <tr>\n",
       "      <th>max</th>\n",
       "      <td>82.000000</td>\n",
       "      <td>71.900000</td>\n",
       "      <td>271.740000</td>\n",
       "    </tr>\n",
       "  </tbody>\n",
       "</table>\n",
       "</div>"
      ],
      "text/plain": [
       "               age          bmi  avg_glucose_level\n",
       "count  1002.000000  1002.000000        1002.000000\n",
       "mean     52.373253    30.464088         114.502176\n",
       "std      18.459460     7.058979          51.396969\n",
       "min      13.000000    15.700000          55.250000\n",
       "25%      39.000000    25.600000          78.965000\n",
       "50%      53.000000    28.900000          96.140000\n",
       "75%      68.000000    34.300000         127.112500\n",
       "max      82.000000    71.900000         271.740000"
      ]
     },
     "execution_count": 70,
     "metadata": {},
     "output_type": "execute_result"
    }
   ],
   "source": [
    "X.describe()"
   ]
  },
  {
   "cell_type": "code",
   "execution_count": 71,
   "id": "7ebd159e",
   "metadata": {},
   "outputs": [
    {
     "data": {
      "image/png": "[encoded data removed]",
      "text/plain": [
       "<Figure size 432x288 with 1 Axes>"
      ]
     },
     "metadata": {
      "needs_background": "light"
     },
     "output_type": "display_data"
    }
   ],
   "source": [
    "#Principal Component Analysis (PCA): PCA is a technique for reducing the dimensionality of high-dimensional datasets.\n",
    "#In the stroke prediction dataset, we can use PCA to identify the most important features that contribute to the risk \n",
    "#of stroke.\n",
    "\n",
    "\n",
    "from sklearn.decomposition import PCA\n",
    "# Apply PCA\n",
    "pca = PCA(n_components=2)\n",
    "X_pca = pca.fit_transform(X_scaled)\n",
    "\n",
    "# Visualize the data in two dimensions\n",
    "plt.scatter(X_pca[:, 0], X_pca[:, 1], c= Y, cmap=\"viridis\")\n",
    "plt.xlabel(\"PC1\")\n",
    "plt.ylabel(\"PC2\")\n",
    "plt.show()\n",
    "#In this code, we first select a subset of features that we believe are important for predicting stroke risk.\n",
    "#We then standardize the features using StandardScaler() to ensure that all features are on the same scale. \n",
    "#We apply PCA to the standardized features using PCA(n_components=2), which projects the data onto a two-dimensional\n",
    "# subspace. We then visualize the data in two dimensions using a scatter plot, with the color of each point indicating\n",
    "#whether the patient had a stroke or not."
   ]
  },
  {
   "cell_type": "code",
   "execution_count": 72,
   "id": "56ec995f",
   "metadata": {},
   "outputs": [
    {
     "name": "stdout",
     "output_type": "stream",
     "text": [
      "[0.42965375 0.76589364]\n"
     ]
    }
   ],
   "source": [
    "from sklearn.decomposition import PCA\n",
    "# Calculate the explained variance ratio and cumulative explained variance\n",
    "explained_variance_ratio = pca.explained_variance_ratio_\n",
    "cumulative_explained_variance = np.cumsum(explained_variance_ratio)\n",
    "print(cumulative_explained_variance)\n",
    "\n",
    "#The first principal component explains 45% of the total variance in the original dataset.\n",
    "#The first two principal components together explain 78% of the total variance in the original dataset.\n",
    "#The remaining variance, which is not captured by these two principal components, can be thought of as noise or unexplained variation in the original dataset"
   ]
  },
  {
   "cell_type": "code",
   "execution_count": 73,
   "id": "eb1789af",
   "metadata": {},
   "outputs": [
    {
     "data": {
      "image/png": "[encoded data removed]",
      "text/plain": [
       "<Figure size 432x288 with 1 Axes>"
      ]
     },
     "metadata": {
      "needs_background": "light"
     },
     "output_type": "display_data"
    }
   ],
   "source": [
    "#K-Means Clustering: K-means clustering is a technique for grouping data points into a fixed number of clusters based \n",
    "#on their similarity. In the stroke prediction dataset, we can use K-means clustering to identify groups of patients \n",
    "#who have similar risk factors for stroke.\n",
    "\n",
    "\n",
    "\n",
    "from sklearn.cluster import KMeans\n",
    "\n",
    "\n",
    "# Load the data and select features\n",
    "\n",
    "#features = [\"age\", \"hypertension\", \"heart_disease\", \"avg_glucose_level\", \"bmi\"]\n",
    "#X = data[features]\n",
    "\n",
    "# Standardize the features\n",
    "#scaler = StandardScaler()\n",
    "#X = X_scaled\n",
    "\n",
    "# Apply K-means clustering\n",
    "kmeans = KMeans(n_clusters=2, random_state=0)\n",
    "labels = kmeans.fit_predict(X_scaled)\n",
    "\n",
    "# Visualize the clusters\n",
    "plt.scatter(X_scaled[:, 1], X_scaled[:, 2], c=labels, cmap=\"viridis\")\n",
    "plt.xlabel(\"BMI\")\n",
    "plt.ylabel(\"Avg Glucose Level\")\n",
    "plt.show()\n",
    "\n",
    "#In this code, we first select the same subset of features as in the PCA example, and standardize the features using \n",
    "#StandardScaler(). We apply K-means clustering to the standardized features using KMeans(n_clusters=2), which groups \n",
    "#the data points into two clusters based on their similarity. We then visualize the clusters in a scatter plot, with \n",
    "#the color of each point indicating which cluster it belongs to."
   ]
  },
  {
   "cell_type": "code",
   "execution_count": 74,
   "id": "29323ba8",
   "metadata": {},
   "outputs": [
    {
     "name": "stdout",
     "output_type": "stream",
     "text": [
      "Silhouette score: 0.394479804498657\n"
     ]
    }
   ],
   "source": [
    "from sklearn.metrics import silhouette_score\n",
    "\n",
    "# Calculate the silhouette score\n",
    "silhouette = silhouette_score(X_scaled, labels)\n",
    "print(\"Silhouette score:\", silhouette)"
   ]
  },
  {
   "cell_type": "code",
   "execution_count": 75,
   "id": "763b1f99",
   "metadata": {},
   "outputs": [
    {
     "name": "stdout",
     "output_type": "stream",
     "text": [
      "Accuracy:  0.7544910179640718\n",
      "Precision:  0.7526721018990211\n",
      "Recall:  0.7544910179640718\n",
      "F1 score:  0.753569593979124\n"
     ]
    }
   ],
   "source": [
    "from sklearn.metrics import accuracy_score, precision_score, recall_score, f1_score\n",
    "\n",
    "# Calculate the performance metrics\n",
    "y_true = Y\n",
    "y_pred = labels\n",
    "accuracy = accuracy_score(y_true, y_pred)\n",
    "precision = precision_score(y_true, y_pred, average='weighted')\n",
    "recall = recall_score(y_true, y_pred, average='weighted')\n",
    "f1 = f1_score(y_true, y_pred, average='weighted')\n",
    "\n",
    "# Print the performance metrics\n",
    "print(\"Accuracy: \", accuracy)\n",
    "print(\"Precision: \", precision)\n",
    "print(\"Recall: \", recall)\n",
    "print(\"F1 score: \", f1)"
   ]
  },
  {
   "cell_type": "code",
   "execution_count": 76,
   "id": "6c7649c0",
   "metadata": {
    "scrolled": false
   },
   "outputs": [
    {
     "data": {
      "image/png": "[encoded data removed]",
      "text/plain": [
       "<Figure size 432x288 with 1 Axes>"
      ]
     },
     "metadata": {
      "needs_background": "light"
     },
     "output_type": "display_data"
    },
    {
     "name": "stdout",
     "output_type": "stream",
     "text": [
      "Silhouette score: 0.34693054419601166\n"
     ]
    }
   ],
   "source": [
    "#Density-Based Spatial Clustering of Applications with Noise (DBSCAN): DBSCAN is a clustering algorithm that groups \n",
    "#together data points that are close together in high-density regions and separates out low-density regions as noise. \n",
    "#In the stroke prediction dataset, we can use DBSCAN to identify patients who have similar risk factors for stroke \n",
    "#and identify any outliers that may represent rare or unusual cases.\n",
    "\n",
    "\n",
    "\n",
    "from sklearn.cluster import DBSCAN\n",
    "\n",
    "# Apply DBSCAN clustering\n",
    "dbscan = DBSCAN(eps=0.5, min_samples=5)\n",
    "labels = dbscan.fit_predict(X_scaled)\n",
    "\n",
    "# Visualize the clusters\n",
    "plt.scatter(X_scaled[:, 1], X_scaled[:, 2], c=labels, cmap=\"viridis\")\n",
    "plt.xlabel(\"BMI\")\n",
    "plt.ylabel(\"Avg Glucose Level\")\n",
    "plt.show()\n",
    "\n",
    "#The color black represents noise points which are not a part of any cluster\n",
    "\n",
    "# Calculate the silhouette score\n",
    "silhouette = silhouette_score(X_scaled, labels)\n",
    "print(\"Silhouette score:\", silhouette)\n",
    "\n",
    "\n",
    "#In this code, we first select the same subset of features as in the K-means clustering example and standardize \n",
    "#the features using StandardScaler(). We apply DBSCAN to the standardized features \n",
    "#using DBSCAN(eps=0.5, min_samples=5), which groups the data points into clusters based on their density and \n",
    "#separates out low-density points as noise. We then visualize the clusters and noise points in a scatter plot, \n",
    "#with the color of each point indicating which cluster it belongs to."
   ]
  },
  {
   "cell_type": "code",
   "execution_count": null,
   "id": "58cdc63c",
   "metadata": {},
   "outputs": [],
   "source": []
  },
  {
   "cell_type": "code",
   "execution_count": 77,
   "id": "ca6eb150",
   "metadata": {
    "scrolled": false
   },
   "outputs": [
    {
     "name": "stdout",
     "output_type": "stream",
     "text": [
      "Number of clusters: 2, Silhouette score: 0.393\n",
      "Number of clusters: 3, Silhouette score: 0.163\n",
      "Number of clusters: 4, Silhouette score: 0.119\n",
      "Number of clusters: 5, Silhouette score: 0.179\n",
      "Number of clusters: 6, Silhouette score: 0.266\n",
      "Number of clusters: 7, Silhouette score: 0.263\n",
      "Number of clusters: 8, Silhouette score: 0.238\n",
      "Number of clusters: 9, Silhouette score: 0.231\n",
      "Number of clusters: 10, Silhouette score: 0.230\n"
     ]
    },
    {
     "data": {
      "image/png": "[encoded data removed]",
      "text/plain": [
       "<Figure size 432x288 with 1 Axes>"
      ]
     },
     "metadata": {
      "needs_background": "light"
     },
     "output_type": "display_data"
    }
   ],
   "source": [
    "from sklearn.cluster import AgglomerativeClustering\n",
    "\n",
    "# Determine the optimal number of clusters using the silhouette score\n",
    "scores = []\n",
    "for k in range(2, 11):\n",
    "    model = AgglomerativeClustering(n_clusters=k, affinity='euclidean', linkage='complete')\n",
    "    labels = model.fit_predict(X_scaled)\n",
    "    score = silhouette_score(X_scaled, labels)\n",
    "    scores.append(score)\n",
    "    print(f'Number of clusters: {k}, Silhouette score: {score:.3f}')\n",
    "\n",
    "# Plot the silhouette scores\n",
    "plt.plot(range(2, 11), scores, marker='o')\n",
    "plt.xlabel('Number of clusters')\n",
    "plt.ylabel('Silhouette score')\n",
    "plt.show()"
   ]
  },
  {
   "cell_type": "code",
   "execution_count": 78,
   "id": "9989f201",
   "metadata": {},
   "outputs": [
    {
     "data": {
      "image/png": "[encoded data removed]",
      "text/plain": [
       "<Figure size 1080x360 with 1 Axes>"
      ]
     },
     "metadata": {
      "needs_background": "light"
     },
     "output_type": "display_data"
    }
   ],
   "source": [
    "from sklearn.cluster import AgglomerativeClustering\n",
    "from scipy.cluster.hierarchy import linkage, dendrogram\n",
    "from scipy.spatial.distance import pdist\n",
    "\n",
    "# Calculate the distance matrix using Euclidean distance\n",
    "dist_matrix = pdist(X_scaled, metric='euclidean')\n",
    "\n",
    "# Perform hierarchical clustering using the complete linkage method and 2 clusters\n",
    "hc = AgglomerativeClustering(n_clusters=2, affinity='euclidean', linkage='complete')\n",
    "hc.fit(X_scaled)\n",
    "\n",
    "# Plot the dendrogram\n",
    "Z = linkage(dist_matrix, method='complete')\n",
    "plt.figure(figsize=(15, 5))\n",
    "dendrogram(Z, truncate_mode='lastp', p=12, leaf_rotation=45, leaf_font_size=15, show_contracted=True)\n",
    "plt.title('Dendrogram')\n",
    "plt.xlabel('Samples')\n",
    "plt.ylabel('Distance')\n",
    "plt.show()"
   ]
  },
  {
   "cell_type": "code",
   "execution_count": null,
   "id": "0caa324b",
   "metadata": {},
   "outputs": [],
   "source": []
  },
  {
   "cell_type": "code",
   "execution_count": 79,
   "id": "540eda9b",
   "metadata": {},
   "outputs": [],
   "source": [
    "from sklearn.semi_supervised import LabelPropagation"
   ]
  },
  {
   "cell_type": "code",
   "execution_count": 80,
   "id": "58d03e80",
   "metadata": {},
   "outputs": [],
   "source": [
    "n_labeled = int(len(x_train) * 0.1)\n",
    "X_train_labeled = x_train[:n_labeled]\n",
    "y_train_labeled = y_train[:n_labeled]\n",
    "X_train_unlabeled = x_train[n_labeled:]"
   ]
  },
  {
   "cell_type": "code",
   "execution_count": 81,
   "id": "814095fb",
   "metadata": {},
   "outputs": [],
   "source": [
    "lp = LabelPropagation(kernel = 'rbf', gamma = 20)\n",
    "lp.fit(X_train_labeled, y_train_labeled)\n",
    "y_train_pred = lp.predict(X_train_unlabeled)\n",
    "X_train_combined = np.concatenate([X_train_labeled, X_train_unlabeled])\n",
    "y_train_combined = np.concatenate([y_train_labeled, y_train_pred])"
   ]
  },
  {
   "cell_type": "code",
   "execution_count": 82,
   "id": "06f398b5",
   "metadata": {},
   "outputs": [
    {
     "name": "stdout",
     "output_type": "stream",
     "text": [
      "Accuracy of classifier 1: 0.9024663677130045\n",
      "Confusion matrix of classifier 1:\n"
     ]
    },
    {
     "data": {
      "text/plain": [
       "<AxesSubplot:>"
      ]
     },
     "execution_count": 82,
     "metadata": {},
     "output_type": "execute_result"
    },
    {
     "data": {
      "image/png": "[encoded data removed]",
      "text/plain": [
       "<Figure size 432x288 with 2 Axes>"
      ]
     },
     "metadata": {
      "needs_background": "light"
     },
     "output_type": "display_data"
    }
   ],
   "source": [
    "dtc = DecisionTreeClassifier()\n",
    "dtc.fit(X_train_combined, y_train_combined)\n",
    "y_test_pred = dtc.predict(x_test)\n",
    "accuracy = accuracy_score(y_test, y_test_pred)\n",
    "print('Accuracy of classifier 1:', accuracy)\n",
    "print('Confusion matrix of classifier 1:')\n",
    "cm = confusion_matrix(y_test, y_test_pred)\n",
    "cm_df = pd.DataFrame(cm, index=['No Stroke', 'Stroke'], columns=['No Stroke', 'Stroke'])\n",
    "sns.heatmap(cm_df, annot=True, fmt='d')"
   ]
  },
  {
   "cell_type": "code",
   "execution_count": 83,
   "id": "bca86739",
   "metadata": {},
   "outputs": [
    {
     "name": "stdout",
     "output_type": "stream",
     "text": [
      "Accuracy of classifier 2: 0.9417040358744395\n",
      "Confusion matrix of classifier 2:\n"
     ]
    },
    {
     "data": {
      "text/plain": [
       "<AxesSubplot:>"
      ]
     },
     "execution_count": 83,
     "metadata": {},
     "output_type": "execute_result"
    },
    {
     "data": {
      "image/png": "[encoded data removed]",
      "text/plain": [
       "<Figure size 432x288 with 2 Axes>"
      ]
     },
     "metadata": {
      "needs_background": "light"
     },
     "output_type": "display_data"
    }
   ],
   "source": [
    "log = LogisticRegression()\n",
    "log.fit(X_train_combined, y_train_combined)\n",
    "y_test_pred = log.predict(x_test)\n",
    "accuracy = accuracy_score(y_test, y_test_pred)\n",
    "print('Accuracy of classifier 2:', accuracy)\n",
    "print('Confusion matrix of classifier 2:')\n",
    "cm = confusion_matrix(y_test, y_test_pred)\n",
    "cm_df = pd.DataFrame(cm, index=['No Stroke', 'Stroke'], columns=['No Stroke', 'Stroke'])\n",
    "sns.heatmap(cm_df, annot=True, fmt='d')"
   ]
  },
  {
   "cell_type": "code",
   "execution_count": 84,
   "id": "510145c6",
   "metadata": {},
   "outputs": [],
   "source": [
    "X_view1, X_view2, y_view1, y_view2 = train_test_split(x_train, y_train, test_size=0.5)\n",
    "ctr1 = RandomForestClassifier()\n",
    "ctr2 = DecisionTreeClassifier()\n",
    "ctr1.fit(X_view1, y_view1)\n",
    "ctr2.fit(X_view2, y_view2)\n",
    "labeled = [(X_view1, y_view1), (X_view2, y_view2)]\n",
    "unlabeled = [(x_test, y_test)]"
   ]
  },
  {
   "cell_type": "code",
   "execution_count": 86,
   "id": "a17ae96a",
   "metadata": {},
   "outputs": [],
   "source": [
    "while len(unlabeled) > 0:\n",
    "    X_unlabeled, y_unlabeled = unlabeled.pop()\n",
    "    y_pred = ctr2.predict(X_unlabeled)\n",
    "    labeled.append((X_unlabeled, y_pred))\n",
    "    if len(unlabeled) > 0:\n",
    "        X_unlabeled, y_unlabeled = unlabeled.pop()\n",
    "        y_pred = ctr1.predict(X_unlabeled)\n",
    "        labeled.append((X_unlabeled, y_pred))\n",
    "    X = np.concatenate(X)\n",
    "    y = np.concatenate(y)\n",
    "    ctr1.fit(X, y)\n",
    "    ctr2.fit(X, y)\n",
    "    \n",
    "accuracy1 = ctr1.score(x_test, y_test)\n",
    "accuracy2 = ctr2.score(x_test, y_test)"
   ]
  },
  {
   "cell_type": "code",
   "execution_count": 87,
   "id": "e368fe23",
   "metadata": {},
   "outputs": [
    {
     "name": "stdout",
     "output_type": "stream",
     "text": [
      "Accuracy of classifier 1: 0.87\n",
      "Accuracy of classifier 2: 0.82\n"
     ]
    }
   ],
   "source": [
    "print(f'Accuracy of classifier 1: {accuracy1:.2f}')\n",
    "print(f'Accuracy of classifier 2: {accuracy2:.2f}')"
   ]
  },
  {
   "cell_type": "code",
   "execution_count": null,
   "id": "e4cd56d3",
   "metadata": {},
   "outputs": [],
   "source": []
  }
 ],
 "metadata": {
  "kernelspec": {
   "display_name": "Python 3",
   "language": "python",
   "name": "python3"
  },
  "language_info": {
   "codemirror_mode": {
    "name": "ipython",
    "version": 3
   },
   "file_extension": ".py",
   "mimetype": "text/x-python",
   "name": "python",
   "nbconvert_exporter": "python",
   "pygments_lexer": "ipython3",
   "version": "3.8.8"
  }
 },
 "nbformat": 4,
 "nbformat_minor": 5
}
